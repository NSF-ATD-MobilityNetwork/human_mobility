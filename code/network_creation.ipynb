{
 "cells": [
  {
   "cell_type": "code",
   "execution_count": 1,
   "metadata": {},
   "outputs": [],
   "source": [
    "from funtions import *"
   ]
  },
  {
   "cell_type": "markdown",
   "metadata": {},
   "source": [
    "# Data"
   ]
  },
  {
   "cell_type": "code",
   "execution_count": 2,
   "metadata": {},
   "outputs": [],
   "source": [
    "weekly_patterns_folder = '../data/weekly_patterns/'\n",
    "naics_data_filepath = '../data/2-6 digit_2017_Codes.csv'\n",
    "movement_data_folder = '../data/movement_data/'"
   ]
  },
  {
   "cell_type": "markdown",
   "metadata": {},
   "source": [
    "# Weekly Pattern Files"
   ]
  },
  {
   "cell_type": "markdown",
   "metadata": {},
   "source": [
    "The weekly pattern files obtained from [SafeGraph](https://www.safegraph.com/) contain data about the type and number of visits in Harris County, TX. A [kepler.gl](https://kepler.gl/demo/map?mapUrl=https://dl.dropboxusercontent.com/scl/fi/epe2tnmck483sqxsi8vf6/keplergl_43xg4c.json?rlkey=v515mn4vz4gcu7s04e24nlphj&dl=0) image is shown for visits to hospitals for one week."
   ]
  },
  {
   "cell_type": "markdown",
   "metadata": {},
   "source": [
    "<img src='../figures/visits.png' alt='Visits to hospitals in one week' width='500'/>"
   ]
  },
  {
   "cell_type": "code",
   "execution_count": 3,
   "metadata": {},
   "outputs": [
    {
     "name": "stdout",
     "output_type": "stream",
     "text": [
      "Dates:  ['2021-01-04', '2021-01-11', '2021-01-18', '2021-01-25', '2021-02-01', '2021-02-08', '2021-02-15', '2021-02-22', '2021-03-01', '2021-03-08', '2021-03-15', '2021-03-22', '2021-04-05', '2021-04-12', '2021-04-19', '2021-04-26', '2021-05-03', '2021-05-10', '2021-05-17', '2021-05-24', '2021-05-31', '2021-06-07', '2021-06-14', '2021-06-21', '2021-06-28'] \n",
      "Sample:\n"
     ]
    },
    {
     "data": {
      "text/html": [
       "<div>\n",
       "<style scoped>\n",
       "    .dataframe tbody tr th:only-of-type {\n",
       "        vertical-align: middle;\n",
       "    }\n",
       "\n",
       "    .dataframe tbody tr th {\n",
       "        vertical-align: top;\n",
       "    }\n",
       "\n",
       "    .dataframe thead th {\n",
       "        text-align: right;\n",
       "    }\n",
       "</style>\n",
       "<table border=\"1\" class=\"dataframe\">\n",
       "  <thead>\n",
       "    <tr style=\"text-align: right;\">\n",
       "      <th></th>\n",
       "      <th>naics_code</th>\n",
       "      <th>poi_cbg</th>\n",
       "      <th>visitor_cbg</th>\n",
       "      <th>count</th>\n",
       "    </tr>\n",
       "  </thead>\n",
       "  <tbody>\n",
       "    <tr>\n",
       "      <th>0</th>\n",
       "      <td>722515.0</td>\n",
       "      <td>482012507012</td>\n",
       "      <td>482012514011</td>\n",
       "      <td>6</td>\n",
       "    </tr>\n",
       "    <tr>\n",
       "      <th>1</th>\n",
       "      <td>722515.0</td>\n",
       "      <td>482012507012</td>\n",
       "      <td>482917011001</td>\n",
       "      <td>6</td>\n",
       "    </tr>\n",
       "    <tr>\n",
       "      <th>2</th>\n",
       "      <td>722515.0</td>\n",
       "      <td>482012507012</td>\n",
       "      <td>482012231001</td>\n",
       "      <td>5</td>\n",
       "    </tr>\n",
       "    <tr>\n",
       "      <th>3</th>\n",
       "      <td>722515.0</td>\n",
       "      <td>482012507012</td>\n",
       "      <td>482012409022</td>\n",
       "      <td>5</td>\n",
       "    </tr>\n",
       "    <tr>\n",
       "      <th>4</th>\n",
       "      <td>722515.0</td>\n",
       "      <td>482012507012</td>\n",
       "      <td>482012514022</td>\n",
       "      <td>5</td>\n",
       "    </tr>\n",
       "  </tbody>\n",
       "</table>\n",
       "</div>"
      ],
      "text/plain": [
       "   naics_code       poi_cbg   visitor_cbg  count\n",
       "0    722515.0  482012507012  482012514011      6\n",
       "1    722515.0  482012507012  482917011001      6\n",
       "2    722515.0  482012507012  482012231001      5\n",
       "3    722515.0  482012507012  482012409022      5\n",
       "4    722515.0  482012507012  482012514022      5"
      ]
     },
     "execution_count": 3,
     "metadata": {},
     "output_type": "execute_result"
    }
   ],
   "source": [
    "dates = get_dates(weekly_patterns_folder)\n",
    "sample = pd.read_csv(weekly_patterns_folder + '/all_naics_2021-01-04.csv')\n",
    "\n",
    "print('Dates: ', dates, '\\nSample:')\n",
    "sample.head()"
   ]
  },
  {
   "cell_type": "markdown",
   "metadata": {},
   "source": [
    "# Spatial Preprocessing"
   ]
  },
  {
   "cell_type": "markdown",
   "metadata": {},
   "source": [
    "Weekly pattern files are converted to a list dataframes (one dataframe per week). Not all visitor CBGs are from Harris County and need to be fitlered. Converting from CBG to CT requires aggregrating sums across CBGs within a CT."
   ]
  },
  {
   "cell_type": "markdown",
   "metadata": {},
   "source": [
    "<img src='../figures/fips.png' alt='Visits to hospitals in one week' width='500'/>"
   ]
  },
  {
   "cell_type": "code",
   "execution_count": 4,
   "metadata": {},
   "outputs": [
    {
     "data": {
      "text/html": [
       "<div>\n",
       "<style scoped>\n",
       "    .dataframe tbody tr th:only-of-type {\n",
       "        vertical-align: middle;\n",
       "    }\n",
       "\n",
       "    .dataframe tbody tr th {\n",
       "        vertical-align: top;\n",
       "    }\n",
       "\n",
       "    .dataframe thead th {\n",
       "        text-align: right;\n",
       "    }\n",
       "</style>\n",
       "<table border=\"1\" class=\"dataframe\">\n",
       "  <thead>\n",
       "    <tr style=\"text-align: right;\">\n",
       "      <th></th>\n",
       "      <th>naics_code</th>\n",
       "      <th>poi_id</th>\n",
       "      <th>visitor_id</th>\n",
       "      <th>count</th>\n",
       "    </tr>\n",
       "  </thead>\n",
       "  <tbody>\n",
       "    <tr>\n",
       "      <th>0</th>\n",
       "      <td>722515</td>\n",
       "      <td>482012507012</td>\n",
       "      <td>482012514011</td>\n",
       "      <td>6</td>\n",
       "    </tr>\n",
       "    <tr>\n",
       "      <th>2</th>\n",
       "      <td>722515</td>\n",
       "      <td>482012507012</td>\n",
       "      <td>482012231001</td>\n",
       "      <td>5</td>\n",
       "    </tr>\n",
       "    <tr>\n",
       "      <th>3</th>\n",
       "      <td>722515</td>\n",
       "      <td>482012507012</td>\n",
       "      <td>482012409022</td>\n",
       "      <td>5</td>\n",
       "    </tr>\n",
       "    <tr>\n",
       "      <th>4</th>\n",
       "      <td>722515</td>\n",
       "      <td>482012507012</td>\n",
       "      <td>482012514022</td>\n",
       "      <td>5</td>\n",
       "    </tr>\n",
       "    <tr>\n",
       "      <th>7</th>\n",
       "      <td>722515</td>\n",
       "      <td>482012507012</td>\n",
       "      <td>482012517002</td>\n",
       "      <td>4</td>\n",
       "    </tr>\n",
       "  </tbody>\n",
       "</table>\n",
       "</div>"
      ],
      "text/plain": [
       "  naics_code        poi_id    visitor_id  count\n",
       "0     722515  482012507012  482012514011      6\n",
       "2     722515  482012507012  482012231001      5\n",
       "3     722515  482012507012  482012409022      5\n",
       "4     722515  482012507012  482012514022      5\n",
       "7     722515  482012507012  482012517002      4"
      ]
     },
     "execution_count": 4,
     "metadata": {},
     "output_type": "execute_result"
    }
   ],
   "source": [
    "dfs = create_dfs(weekly_patterns_folder)\n",
    "dfs_harris_county = filter_dfs(df_list=dfs, column='visitor_id', starts_with='48201')\n",
    "dfs_harris_county[0].head()"
   ]
  },
  {
   "cell_type": "code",
   "execution_count": 5,
   "metadata": {},
   "outputs": [
    {
     "data": {
      "text/html": [
       "<div>\n",
       "<style scoped>\n",
       "    .dataframe tbody tr th:only-of-type {\n",
       "        vertical-align: middle;\n",
       "    }\n",
       "\n",
       "    .dataframe tbody tr th {\n",
       "        vertical-align: top;\n",
       "    }\n",
       "\n",
       "    .dataframe thead th {\n",
       "        text-align: right;\n",
       "    }\n",
       "</style>\n",
       "<table border=\"1\" class=\"dataframe\">\n",
       "  <thead>\n",
       "    <tr style=\"text-align: right;\">\n",
       "      <th></th>\n",
       "      <th>naics_code</th>\n",
       "      <th>poi_id</th>\n",
       "      <th>visitor_id</th>\n",
       "      <th>count</th>\n",
       "    </tr>\n",
       "  </thead>\n",
       "  <tbody>\n",
       "    <tr>\n",
       "      <th>0</th>\n",
       "      <td>111421</td>\n",
       "      <td>554801</td>\n",
       "      <td>554801</td>\n",
       "      <td>4</td>\n",
       "    </tr>\n",
       "    <tr>\n",
       "      <th>1</th>\n",
       "      <td>111421</td>\n",
       "      <td>554801</td>\n",
       "      <td>555401</td>\n",
       "      <td>4</td>\n",
       "    </tr>\n",
       "    <tr>\n",
       "      <th>2</th>\n",
       "      <td>111421</td>\n",
       "      <td>554801</td>\n",
       "      <td>555502</td>\n",
       "      <td>4</td>\n",
       "    </tr>\n",
       "    <tr>\n",
       "      <th>3</th>\n",
       "      <td>221111</td>\n",
       "      <td>250301</td>\n",
       "      <td>250301</td>\n",
       "      <td>4</td>\n",
       "    </tr>\n",
       "    <tr>\n",
       "      <th>4</th>\n",
       "      <td>221111</td>\n",
       "      <td>250301</td>\n",
       "      <td>342002</td>\n",
       "      <td>4</td>\n",
       "    </tr>\n",
       "  </tbody>\n",
       "</table>\n",
       "</div>"
      ],
      "text/plain": [
       "  naics_code  poi_id visitor_id  count\n",
       "0     111421  554801     554801      4\n",
       "1     111421  554801     555401      4\n",
       "2     111421  554801     555502      4\n",
       "3     221111  250301     250301      4\n",
       "4     221111  250301     342002      4"
      ]
     },
     "execution_count": 5,
     "metadata": {},
     "output_type": "execute_result"
    }
   ],
   "source": [
    "dfs_tracts = convert_to_tracts(df_list=dfs_harris_county)\n",
    "dfs_tracts[0].head()"
   ]
  },
  {
   "cell_type": "markdown",
   "metadata": {},
   "source": [
    "# Movement-type Stratification"
   ]
  },
  {
   "cell_type": "markdown",
   "metadata": {},
   "source": [
    "Descriptions of all NAICS codes can be downloaded from [https://www.census.gov/naics](https://www.census.gov/naics). "
   ]
  },
  {
   "cell_type": "markdown",
   "metadata": {},
   "source": [
    "<img src=\"../figures/maps.svg\" alt=\"FIPS diagram\" width=\"400\"/>"
   ]
  },
  {
   "cell_type": "code",
   "execution_count": 6,
   "metadata": {},
   "outputs": [
    {
     "data": {
      "text/html": [
       "<div>\n",
       "<style scoped>\n",
       "    .dataframe tbody tr th:only-of-type {\n",
       "        vertical-align: middle;\n",
       "    }\n",
       "\n",
       "    .dataframe tbody tr th {\n",
       "        vertical-align: top;\n",
       "    }\n",
       "\n",
       "    .dataframe thead th {\n",
       "        text-align: right;\n",
       "    }\n",
       "</style>\n",
       "<table border=\"1\" class=\"dataframe\">\n",
       "  <thead>\n",
       "    <tr style=\"text-align: right;\">\n",
       "      <th></th>\n",
       "      <th>Code</th>\n",
       "      <th>Name</th>\n",
       "    </tr>\n",
       "  </thead>\n",
       "  <tbody>\n",
       "    <tr>\n",
       "      <th>1837</th>\n",
       "      <td>621</td>\n",
       "      <td>Ambulatory Health Care Services</td>\n",
       "    </tr>\n",
       "    <tr>\n",
       "      <th>1880</th>\n",
       "      <td>622</td>\n",
       "      <td>Hospitals</td>\n",
       "    </tr>\n",
       "    <tr>\n",
       "      <th>1890</th>\n",
       "      <td>623</td>\n",
       "      <td>Nursing and Residential Care Facilities</td>\n",
       "    </tr>\n",
       "    <tr>\n",
       "      <th>1906</th>\n",
       "      <td>624</td>\n",
       "      <td>Social Assistance</td>\n",
       "    </tr>\n",
       "  </tbody>\n",
       "</table>\n",
       "</div>"
      ],
      "text/plain": [
       "     Code                                     Name\n",
       "1837  621          Ambulatory Health Care Services\n",
       "1880  622                                Hospitals\n",
       "1890  623  Nursing and Residential Care Facilities\n",
       "1906  624                        Social Assistance"
      ]
     },
     "execution_count": 6,
     "metadata": {},
     "output_type": "execute_result"
    }
   ],
   "source": [
    "naics_df = get_naics_df(naics_data_filepath, num_digits=3, starts_with='62')\n",
    "naics_df"
   ]
  },
  {
   "cell_type": "code",
   "execution_count": 7,
   "metadata": {},
   "outputs": [
    {
     "data": {
      "text/html": [
       "<div>\n",
       "<style scoped>\n",
       "    .dataframe tbody tr th:only-of-type {\n",
       "        vertical-align: middle;\n",
       "    }\n",
       "\n",
       "    .dataframe tbody tr th {\n",
       "        vertical-align: top;\n",
       "    }\n",
       "\n",
       "    .dataframe thead th {\n",
       "        text-align: right;\n",
       "    }\n",
       "</style>\n",
       "<table border=\"1\" class=\"dataframe\">\n",
       "  <thead>\n",
       "    <tr style=\"text-align: right;\">\n",
       "      <th></th>\n",
       "      <th>naics_code</th>\n",
       "      <th>poi_id</th>\n",
       "      <th>visitor_id</th>\n",
       "      <th>count</th>\n",
       "    </tr>\n",
       "  </thead>\n",
       "  <tbody>\n",
       "    <tr>\n",
       "      <th>119453</th>\n",
       "      <td>622110</td>\n",
       "      <td>100000</td>\n",
       "      <td>100000</td>\n",
       "      <td>10</td>\n",
       "    </tr>\n",
       "    <tr>\n",
       "      <th>119454</th>\n",
       "      <td>622110</td>\n",
       "      <td>100000</td>\n",
       "      <td>221100</td>\n",
       "      <td>4</td>\n",
       "    </tr>\n",
       "    <tr>\n",
       "      <th>119455</th>\n",
       "      <td>622110</td>\n",
       "      <td>100000</td>\n",
       "      <td>222402</td>\n",
       "      <td>8</td>\n",
       "    </tr>\n",
       "    <tr>\n",
       "      <th>119456</th>\n",
       "      <td>622110</td>\n",
       "      <td>100000</td>\n",
       "      <td>232302</td>\n",
       "      <td>4</td>\n",
       "    </tr>\n",
       "    <tr>\n",
       "      <th>119457</th>\n",
       "      <td>622110</td>\n",
       "      <td>100000</td>\n",
       "      <td>232401</td>\n",
       "      <td>4</td>\n",
       "    </tr>\n",
       "  </tbody>\n",
       "</table>\n",
       "</div>"
      ],
      "text/plain": [
       "       naics_code  poi_id visitor_id  count\n",
       "119453     622110  100000     100000     10\n",
       "119454     622110  100000     221100      4\n",
       "119455     622110  100000     222402      8\n",
       "119456     622110  100000     232302      4\n",
       "119457     622110  100000     232401      4"
      ]
     },
     "execution_count": 7,
     "metadata": {},
     "output_type": "execute_result"
    }
   ],
   "source": [
    "dfs_hospitals = filter_dfs(df_list=dfs_tracts, column='naics_code', starts_with='622')\n",
    "dfs_hospitals[0].head()"
   ]
  },
  {
   "cell_type": "markdown",
   "metadata": {},
   "source": [
    "# Building Weighted Adjacency Matrices, $A^{(n)}(t)$"
   ]
  },
  {
   "cell_type": "markdown",
   "metadata": {},
   "source": [
    "For a NAICS code, $n$, create a list of matrices for $t = 1, 2, \\dots, T$. The default uses CTs with movement for at least one time $t$, but can be customized."
   ]
  },
  {
   "cell_type": "code",
   "execution_count": 8,
   "metadata": {},
   "outputs": [
    {
     "name": "stdout",
     "output_type": "stream",
     "text": [
      "Number of weeks:  25\n",
      "Number of matrices:  25\n",
      "Number of CTs:  786\n",
      "Size of matrices:  (786, 786)\n"
     ]
    }
   ],
   "source": [
    "mats_hospitals = build_matrices(df_list=dfs_hospitals)\n",
    "tracts_hospitals = get_tracts(df_list=dfs_hospitals)\n",
    "\n",
    "print('Number of weeks: ', len(dates))\n",
    "print('Number of matrices: ', len(mats_hospitals))\n",
    "print('Number of CTs: ', len(tracts_hospitals))\n",
    "print('Size of matrices: ', mats_hospitals[0].shape)"
   ]
  },
  {
   "cell_type": "code",
   "execution_count": 9,
   "metadata": {},
   "outputs": [
    {
     "name": "stdout",
     "output_type": "stream",
     "text": [
      "Size of filtered matrices: (785, 785)\n"
     ]
    }
   ],
   "source": [
    "tracts_filtered = tracts_hospitals[tracts_hospitals != '980000']\n",
    "mats_hospitals_filtered = build_matrices(df_list=dfs_hospitals, tracts=tracts_filtered)\n",
    "\n",
    "print('Size of filtered matrices:', mats_hospitals_filtered[0].shape)"
   ]
  },
  {
   "cell_type": "markdown",
   "metadata": {},
   "source": [
    "# Network Movements"
   ]
  },
  {
   "cell_type": "markdown",
   "metadata": {},
   "source": [
    "We look at the network's total movements, in-degree, and out-degree for each time $t$."
   ]
  },
  {
   "cell_type": "code",
   "execution_count": 10,
   "metadata": {},
   "outputs": [
    {
     "name": "stdout",
     "output_type": "stream",
     "text": [
      "Total movements shape (weeks): (25,)\n",
      "In-Degrees shape (weeks x CTs): (25, 785)\n",
      "Out-Degrees shape (weeks x CTs): (25, 785)\n"
     ]
    }
   ],
   "source": [
    "total_movements = get_total_movements(mat_list=mats_hospitals_filtered)\n",
    "in_degrees = get_degrees_in(mat_list=mats_hospitals_filtered)\n",
    "out_degrees = get_degrees_out(mat_list=mats_hospitals_filtered)\n",
    "\n",
    "print('Total movements shape (weeks):', total_movements.shape)\n",
    "print('In-Degrees shape (weeks x CTs):', in_degrees.shape)\n",
    "print('Out-Degrees shape (weeks x CTs):', out_degrees.shape)"
   ]
  },
  {
   "cell_type": "code",
   "execution_count": 11,
   "metadata": {},
   "outputs": [
    {
     "data": {
      "text/plain": [
       "Text(0.5, 1.0, 'Out-Degrees')"
      ]
     },
     "execution_count": 11,
     "metadata": {},
     "output_type": "execute_result"
    },
    {
     "data": {
      "image/png": "[encoded data removed]",
      "text/plain": [
       "<Figure size 800x800 with 3 Axes>"
      ]
     },
     "metadata": {},
     "output_type": "display_data"
    }
   ],
   "source": [
    "fig, ax = plt.subplots(3,1, figsize=(8,8))\n",
    "fig.tight_layout(pad=6.0)\n",
    "\n",
    "plot_total_movements(total_movements, dates, ax[0])\n",
    "ax[0].set_title('Total Movements')\n",
    "\n",
    "plot_degrees(in_degrees, dates, ax[1])\n",
    "ax[1].set_title('In-Degrees')\n",
    "\n",
    "plot_degrees(out_degrees, dates, ax[2])\n",
    "ax[2].set_title('Out-Degrees')\n",
    "\n"
   ]
  },
  {
   "cell_type": "markdown",
   "metadata": {},
   "source": [
    "# Generate and save movement data"
   ]
  },
  {
   "cell_type": "markdown",
   "metadata": {},
   "source": [
    "To reduce computation time, movement data is stored as a dictionary in a $n$.pkl file, for NAICS code $n$. Keys are tracts, degrees_in, degrees_out, and total_movements."
   ]
  },
  {
   "cell_type": "code",
   "execution_count": 12,
   "metadata": {},
   "outputs": [],
   "source": [
    "generate_movement_data(weekly_patterns_folder, movement_data_folder, naics_code='622')"
   ]
  },
  {
   "cell_type": "code",
   "execution_count": 13,
   "metadata": {},
   "outputs": [
    {
     "data": {
      "text/plain": [
       "dict_keys(['Tract', 'In-Degree', 'Out-Degree', 'Total Movements'])"
      ]
     },
     "execution_count": 13,
     "metadata": {},
     "output_type": "execute_result"
    }
   ],
   "source": [
    "data = load_movement_data(movement_data_folder, naics_code='622')\n",
    "data.keys()"
   ]
  }
 ],
 "metadata": {
  "kernelspec": {
   "display_name": "env",
   "language": "python",
   "name": "python3"
  },
  "language_info": {
   "codemirror_mode": {
    "name": "ipython",
    "version": 3
   },
   "file_extension": ".py",
   "mimetype": "text/x-python",
   "name": "python",
   "nbconvert_exporter": "python",
   "pygments_lexer": "ipython3",
   "version": "3.12.5"
  }
 },
 "nbformat": 4,
 "nbformat_minor": 2
}
