{
 "cells": [
  {
   "cell_type": "markdown",
   "id": "326576c4-bf55-485f-ba11-b1ee6770b531",
   "metadata": {},
   "source": [
    "!pip install -q --upgrade git+https://github.com/SafeGraphInc/safegraph_py"
   ]
  },
  {
   "cell_type": "markdown",
   "id": "474a520d-4661-4a07-9768-430bd43fb004",
   "metadata": {
    "jp-MarkdownHeadingCollapsed": true
   },
   "source": [
    "# Load, test, help for SGPY\n",
    "https://github.com/SafeGraphInc/safegraph_py?tab=readme-ov-file"
   ]
  },
  {
   "cell_type": "code",
   "execution_count": 1,
   "id": "a71cf849-3444-431c-9d44-58e6ff659072",
   "metadata": {},
   "outputs": [],
   "source": [
    "from safegraph_py_functions import safegraph_py_functions as sgpy\n",
    "import pandas as pd\n",
    "import numpy as np\n",
    "import os\n"
   ]
  },
  {
   "cell_type": "code",
   "execution_count": 2,
   "id": "598627a4-5881-4abf-806d-bcc723cf3eaf",
   "metadata": {},
   "outputs": [
    {
     "name": "stdout",
     "output_type": "stream",
     "text": [
      "Hello World\n",
      "safegraph_py v1.1.0\n",
      "\n",
      "\n",
      " ----------------------------------------------------------------------------------------------------------------------------------------------------------------------------------------------------- \n",
      ".d8888b.            .d888          .d8888b.                            888           8888888b.           888    888                             888      d8b 888                                       \n",
      "d88P  Y88b          d88P\"          d88P  Y88b                          888           888   Y88b          888    888                             888      Y8P 888                                       \n",
      "Y88b.               888            888    888                          888           888    888          888    888                             888          888                                       \n",
      " \"Y888b.    8888b.  888888 .d88b.  888        888d888 8888b.  88888b.  88888b.       888   d88P 888  888 888888 88888b.   .d88b.  88888b.       888      888 88888b.  888d888 8888b.  888d888 888  888 \n",
      "    \"Y88b.     \"88b 888   d8P  Y8b 888  88888 888P\"      \"88b 888 \"88b 888 \"88b      8888888P\"  888  888 888    888 \"88b d88\"\"88b 888 \"88b      888      888 888 \"88b 888P\"      \"88b 888P\"   888  888 \n",
      "      \"888 .d888888 888   88888888 888    888 888    .d888888 888  888 888  888      888        888  888 888    888  888 888  888 888  888      888      888 888  888 888    .d888888 888     888  888 \n",
      "Y88b  d88P 888  888 888   Y8b.     Y88b  d88P 888    888  888 888 d88P 888  888      888        Y88b 888 Y88b.  888  888 Y88..88P 888  888      888      888 888 d88P 888    888  888 888     Y88b 888 \n",
      " \"Y8888P\"  \"Y888888 888    \"Y8888   \"Y8888P88 888    \"Y888888 88888P\"  888  888      888         \"Y88888  \"Y888 888  888  \"Y88P\"  888  888      88888888 888 88888P\"  888    \"Y888888 888      \"Y88888 \n",
      "                                                              888                                    888                                                                                           888 \n",
      "                                                              888                               Y8b d88P                                                                                      Y8b d88P \n",
      "                                                              888                                \"Y88P\"                                                                                        \"Y88P\"  \n",
      "-------------------------------------------------------------------------------------------------------------------------------------------------------------------------------------------------------\n",
      "\n",
      " HELP:\n",
      "\n",
      "  Welcome to the safegraph helper function. Below you will find a list of functions and their arguments to aid in your datascience journey. If you have further questions that cannot\n",
      "  be answered by this help command, please do not hesitate to ask for assistance in the #python_troubleshooting slack channel. \n",
      "\n",
      "        Key:\n",
      "            *    -    Required Argument\n",
      "            &    -    Boolean value\n",
      "            $    -    Pandas *args and **kwargs are activated\n",
      "\n",
      "\n",
      "\n",
      "  Available Functions: \n",
      "\n",
      "    + test_me_sgpy() - A function to test the Python Libray\n",
      "\n",
      "  ----------------------[JSON Section]----------------------\n",
      "\n",
      "    + unpack_json() - a function to explode JSON objects within pandas vertically into a new DF\n",
      "        **Arguments: \n",
      "            df*\n",
      "            json_column \n",
      "            key_col_name \n",
      "            value_col_name \n",
      "\n",
      "    + unpack_json_and_merge() - a function to explode JSON objects within pandas vertically and add it to the current DF \n",
      "        **Arguments:\n",
      "            df*\n",
      "            json_column\n",
      "            key_col_name\n",
      "            value_col_name\n",
      "            keep_index (&)\n",
      "\n",
      "    + explode_json_array() - This function vertically explodes an array column in SafeGraph data and creates a second new column indicating the index value from the array\n",
      "        **Arguments:\n",
      "            df*\n",
      "            array_column\n",
      "            value_col_name\n",
      "            place_key\n",
      "            file_key\n",
      "            array_sequence\n",
      "            keep_index (&)\n",
      "            zero_index (&)\n",
      "\n",
      "----------------------[JSON Fast Section]----------------------\n",
      "\n",
      "    + unpack_json_fast() - Multi-threaded version of unpack_json(). Reference unpack_json() for details and arguments.\n",
      "    \n",
      "    + unpack_json_and_merge_fast() - Multi-threaded version of unpack_json_and_merge(). Reference unpack_json_and_merge() for details and arguments.\n",
      "    \n",
      "    + explode_json_array_fast() - Multi-threaded version of explode_json_array(). Reference explode_json_array() for details and arguments.\n",
      "    \n",
      "-----------------[CORE, GEO, and PATTERNS section]----------------------\n",
      "\n",
      "    + read_core_folder() - a function that concats the core files together into 1 dataframe\n",
      "        **Arguments:\n",
      "            path_to_core*\n",
      "            compression\n",
      "            $\n",
      "\n",
      "    + read_core_folder_zip() - used to read in the Core data from the zipped core file\n",
      "        **Arguments:\n",
      "            path_to_core*\n",
      "            compression\n",
      "            $\n",
      "\n",
      "    + read_geo_zip() - used to read in the Core Geo data from a zipped file\n",
      "        **Arguments:\n",
      "            path_to_geo*\n",
      "            compression\n",
      "            $\n",
      "\n",
      "    + read_pattern_single() - used to read in SafeGraph data pre June 15th\n",
      "        **Arguments:\n",
      "            f_path*\n",
      "            compression \n",
      "            $      \n",
      "\n",
      "    + read_pattern_multi() - used to read in SafeGraph pattern data that is broken into multiple files\n",
      "        **Arguments:\n",
      "            path_to_pattern*\n",
      "            compression\n",
      "            $\n",
      "\n",
      "    + merge_core_pattern() - used to combine the core file and the pattern files on the SafeGraph ID\n",
      "        **Arguments:\n",
      "            core_df*\n",
      "            patterns_df*\n",
      "            how\n",
      "            $\n",
      "            \n",
      "    -----------------[Social Distancing section]----------------------\n",
      "\n",
      "    + merge_socialDist_by_dates() - a function that concats the multiple different dates of social distancing data together into 1 dataframe\n",
      "        **Arguments:\n",
      "            path_to_social_dist*\n",
      "            start_date*  (date as string \"year-month-day\")\n",
      "            end_date*    (date as string \"year-month-day\")\n",
      "            $\n",
      "    \n",
      "\n",
      "  \n"
     ]
    }
   ],
   "source": [
    "sgpy.test_me_sgpy()\n",
    "sgpy.version_sgpy()\n",
    "sgpy.help_sgpy()"
   ]
  },
  {
   "cell_type": "markdown",
   "id": "a8d27371-fa46-4312-9526-1708c4582a40",
   "metadata": {
    "jp-MarkdownHeadingCollapsed": true
   },
   "source": [
    "# My Functions"
   ]
  },
  {
   "cell_type": "code",
   "execution_count": 3,
   "id": "4bd8d0ae-f5af-4c21-9510-286a33bb6134",
   "metadata": {},
   "outputs": [],
   "source": [
    "# My functions\n",
    "\n",
    "def list_subsubfolders(root_dir):\n",
    "    subsubfolders = []\n",
    "    for dirpath, dirnames, filenames in os.walk(root_dir):\n",
    "        level = dirpath.replace(root_dir, '').count(os.sep)\n",
    "        if level == 2:  # Change this number to adjust the depth\n",
    "            subsubfolders.extend([os.path.join(dirpath, d) for d in dirnames])\n",
    "            # subsubfolders.extend(dirnames)\n",
    "    subsubfolders.sort()\n",
    "    return subsubfolders\n"
   ]
  },
  {
   "cell_type": "markdown",
   "id": "ed9c108a-8041-47fe-abcf-2eea2eba30d8",
   "metadata": {},
   "source": [
    "# Directories\n",
    "Intoduction to the filesystem of the data."
   ]
  },
  {
   "cell_type": "markdown",
   "id": "2faae57c-bdf4-4716-bf31-36218b243dfc",
   "metadata": {
    "jp-MarkdownHeadingCollapsed": true
   },
   "source": [
    "### Root Directory\n",
    "Directory for all data files."
   ]
  },
  {
   "cell_type": "code",
   "execution_count": 4,
   "id": "c43c7d15-aaee-4ea7-be3e-b5f318d04944",
   "metadata": {},
   "outputs": [
    {
     "name": "stdout",
     "output_type": "stream",
     "text": [
      "core-places-US-Nov2020-present\n",
      "core-places-US-Pre-Nov-2020\n",
      "neighborhood-patterns\n",
      "Social-Distancing-Metrics\n",
      "Weekly-Places-Patterns-for-data-backfill-for-Dec-2020-and-Onward\n",
      "Weekly-Places-Patterns-for-data-from-2018-12-31-to-2020-06-15\n",
      "Weekly-Places-Patterns-for-data-from-2020-06-15-to-2020-11-30\n",
      "Weekly-Places-Patterns-for-data-from-2020-11-30-to-Present\n"
     ]
    }
   ],
   "source": [
    "root_dir = '/glade/work/daneta/SafeGraph/SafeGraphData_BatchDownload_on_2022_2_10/'\n",
    "!ls {root_dir}"
   ]
  },
  {
   "cell_type": "markdown",
   "id": "94919d9c-952c-459a-b42e-0577fc8f0011",
   "metadata": {
    "jp-MarkdownHeadingCollapsed": true
   },
   "source": [
    "### Points of Interest (POI) Directory\n",
    "Directory for POI information (core-places). We used POI data from 2022 for all weeks, assuming SafeGraph ID numbers are not duplicated."
   ]
  },
  {
   "cell_type": "code",
   "execution_count": 5,
   "id": "18a3b5b4-c51f-4028-902a-e7a4d925f3eb",
   "metadata": {},
   "outputs": [
    {
     "name": "stdout",
     "output_type": "stream",
     "text": [
      "2020  2021  2022\n"
     ]
    }
   ],
   "source": [
    "poi_dir = root_dir + 'core-places-US-Nov2020-present/core_poi/'\n",
    "!ls {poi_dir}"
   ]
  },
  {
   "cell_type": "markdown",
   "id": "316c51ca-2766-4fb9-a021-e58e991e0a85",
   "metadata": {},
   "source": [
    "Each year has several subfolders containing 5-7 parts."
   ]
  },
  {
   "cell_type": "code",
   "execution_count": 6,
   "id": "b8cc68f3-2606-4abb-ba3e-f68657da14e1",
   "metadata": {},
   "outputs": [
    {
     "name": "stdout",
     "output_type": "stream",
     "text": [
      "core_poi-part1.csv.gz  core_poi-part4.csv.gz  core_poi-part7.csv.gz\n",
      "core_poi-part2.csv.gz  core_poi-part5.csv.gz  _SUCCESS\n",
      "core_poi-part3.csv.gz  core_poi-part6.csv.gz\n"
     ]
    }
   ],
   "source": [
    "poi_dir_detailed = root_dir + 'core-places-US-Nov2020-present/core_poi/' + '2022/01/08/02/'\n",
    "!ls {poi_dir_detailed}"
   ]
  },
  {
   "cell_type": "markdown",
   "id": "7ac01cea-cb17-4010-bb5c-1a90795eebaf",
   "metadata": {
    "jp-MarkdownHeadingCollapsed": true
   },
   "source": [
    "### Weekly Patterns Directory\n",
    "Directory for weekly visits for all areas. Use backfill data for 01/2018-11/2020 and present data for 12/2020-07/2021."
   ]
  },
  {
   "cell_type": "code",
   "execution_count": 7,
   "id": "9df9c17b-11f9-491a-8fc4-081f1fdf49f1",
   "metadata": {},
   "outputs": [
    {
     "name": "stdout",
     "output_type": "stream",
     "text": [
      "2018  2019  2020\n",
      "2020  2021\n"
     ]
    }
   ],
   "source": [
    "weekly_dir_pre2021 = (root_dir + \n",
    "                      'Weekly-Places-Patterns-for-data-backfill-for-Dec-2020-and-Onward/patterns_backfill/'\n",
    "                      '2020/12/14/21/'\n",
    "                     )\n",
    "weekly_dir_2021 = (root_dir +\n",
    "                   'Weekly-Places-Patterns-for-data-from-2020-11-30-to-Present/patterns/'\n",
    "                  )\n",
    "\n",
    "!ls {weekly_dir_pre2021}\n",
    "!ls {weekly_dir_2021}"
   ]
  },
  {
   "cell_type": "markdown",
   "id": "4db48e66-d7eb-4c8e-a2f8-7978f7f6e343",
   "metadata": {},
   "source": [
    "Each year contains subfolders for weekly data, each containing 4-6 parts."
   ]
  },
  {
   "cell_type": "code",
   "execution_count": 8,
   "id": "5b500c63-ba06-455e-9417-930d867745af",
   "metadata": {},
   "outputs": [
    {
     "name": "stdout",
     "output_type": "stream",
     "text": [
      "patterns-part1.csv.gz  patterns-part3.csv.gz  _SUCCESS\n",
      "patterns-part2.csv.gz  patterns-part4.csv.gz\n"
     ]
    }
   ],
   "source": [
    "weekly_dir_detailed = (root_dir +\n",
    "                       'Weekly-Places-Patterns-for-data-from-2020-11-30-to-Present/patterns/'\n",
    "                       '2021/01/06/19'\n",
    "                      )\n",
    "!ls {weekly_dir_detailed}"
   ]
  },
  {
   "cell_type": "markdown",
   "id": "0b9ed35a-16d6-4fea-badd-e7531e244c1b",
   "metadata": {
    "jp-MarkdownHeadingCollapsed": true
   },
   "source": [
    "### Metadata and normalization stats directory"
   ]
  },
  {
   "cell_type": "markdown",
   "id": "76a181d8-fb32-45a1-8d13-f6cd24c007d0",
   "metadata": {},
   "source": [
    "Contains information about number of POIs, core_places used, number of total visits, and number of devices."
   ]
  },
  {
   "cell_type": "code",
   "execution_count": 9,
   "id": "88b84dcc-69b7-4901-a5c5-6b6698a0ee0e",
   "metadata": {},
   "outputs": [
    {
     "name": "stdout",
     "output_type": "stream",
     "text": [
      "release_metadata.csv  _SUCCESS\n"
     ]
    }
   ],
   "source": [
    "meta_dir = (\n",
    "    '/glade/work/daneta/SafeGraph/SafeGraphData_BatchDownload_on_2022_2_10/'\n",
    "    'Weekly-Places-Patterns-for-data-backfill-for-Dec-2020-and-Onward/release_metadata_backfill/2020/12/14/21/2020/01/06/'\n",
    ")\n",
    "\n",
    "!ls {meta_dir}"
   ]
  },
  {
   "cell_type": "code",
   "execution_count": 14,
   "id": "2acdcf5b-f0c3-4c83-82a4-0fcac6712cf9",
   "metadata": {},
   "outputs": [
    {
     "name": "stdout",
     "output_type": "stream",
     "text": [
      "       metadata_description metadata_value\n",
      "0  core_places_version_used        11-2020\n",
      "1                 total_poi        4155518\n",
      "2         total_branded_poi         916102\n"
     ]
    }
   ],
   "source": [
    "meta_data = pd.read_csv(meta_dir + 'release_metadata.csv')\n",
    "print(meta_data)"
   ]
  },
  {
   "cell_type": "code",
   "execution_count": 12,
   "id": "f2781c76-aa67-4de6-b7d8-25ada64c356d",
   "metadata": {},
   "outputs": [
    {
     "name": "stdout",
     "output_type": "stream",
     "text": [
      "2020  2021\n"
     ]
    }
   ],
   "source": [
    "norm_dir = (root_dir +\n",
    "            'Weekly-Places-Patterns-for-data-from-2020-11-30-to-Present/'\n",
    "            'normalization_stats/'\n",
    "           )\n",
    "!ls {norm_dir}"
   ]
  },
  {
   "cell_type": "code",
   "execution_count": 13,
   "id": "c475206e-bce3-425d-ba8d-8520186f4984",
   "metadata": {},
   "outputs": [
    {
     "name": "stdout",
     "output_type": "stream",
     "text": [
      "     year  month  day      region  total_visits  total_devices_seen  \\\n",
      "0    2020     12   28  ALL_STATES      46985087            16533681   \n",
      "1    2020     12   28          ak         51622               21432   \n",
      "2    2020     12   28          al       1254947              398936   \n",
      "3    2020     12   28          ar        671434              225731   \n",
      "4    2020     12   28          as            16                  15   \n",
      "..    ...    ...  ...         ...           ...                 ...   \n",
      "394  2021      1    3          vt         47484               22392   \n",
      "395  2021      1    3          wa        630655              292087   \n",
      "396  2021      1    3          wi        694717              308181   \n",
      "397  2021      1    3          wv        221301               97826   \n",
      "398  2021      1    3          wy         58754               26930   \n",
      "\n",
      "     total_home_visits  total_home_visitors  \n",
      "0             20998638             13325194  \n",
      "1                23567                17001  \n",
      "2               536546               322138  \n",
      "3               298931               178977  \n",
      "4                    7                    7  \n",
      "..                 ...                  ...  \n",
      "394              25957                17570  \n",
      "395             343882               245780  \n",
      "396             379348               248899  \n",
      "397             119418                78801  \n",
      "398              29429                19869  \n",
      "\n",
      "[399 rows x 8 columns]\n"
     ]
    }
   ],
   "source": [
    "norm_data = pd.read_csv(norm_dir + '2021/01/06/19/' + 'normalization_stats.csv')\n",
    "print(norm_data)"
   ]
  },
  {
   "cell_type": "markdown",
   "id": "b13f0337-52c6-454d-b834-d8820ee1a683",
   "metadata": {},
   "source": [
    "# Data Processing"
   ]
  },
  {
   "cell_type": "markdown",
   "id": "d2b06b9d-389d-48e0-b4ca-d0508b8323e4",
   "metadata": {
    "jp-MarkdownHeadingCollapsed": true
   },
   "source": [
    "### 1. Core POI Data\n",
    "Get a list of POIs for POI Master List and for merging with weekly patterns. For a given year, list the directories for the core poi data, to view dates available."
   ]
  },
  {
   "cell_type": "code",
   "execution_count": 4,
   "id": "3a10d254-cb6a-442e-a024-11dcf29df08b",
   "metadata": {},
   "outputs": [
    {
     "name": "stdout",
     "output_type": "stream",
     "text": [
      "/glade/work/daneta/SafeGraph/SafeGraphData_BatchDownload_on_2022_2_10/core-places-US-Nov2020-present/core_poi/2020/11/06/12\n",
      "/glade/work/daneta/SafeGraph/SafeGraphData_BatchDownload_on_2022_2_10/core-places-US-Nov2020-present/core_poi/2020/12/04/04\n"
     ]
    }
   ],
   "source": [
    "# Use this for 12/2020-07/2021\n",
    "root_directory = ('/glade/work/daneta/SafeGraph/SafeGraphData_BatchDownload_on_2022_2_10/'\n",
    "                  'core-places-US-Nov2020-present/core_poi/')\n",
    "\n",
    "# Use this for 01/2018-11/2020\n",
    "# root_directory = ('/glade/work/daneta/SafeGraph/SafeGraphData_BatchDownload_on_2022_2_10/'\n",
    "#                   'core-places-US-Pre-Nov-2020/')\n",
    "\n",
    "\n",
    "year = '2020'\n",
    "subsubfolders = list_subsubfolders(root_directory + year)\n",
    "for folder in subsubfolders:\n",
    "    print(folder)"
   ]
  },
  {
   "cell_type": "markdown",
   "id": "e54b21e3-17a1-469f-9cbf-141da6cdb437",
   "metadata": {},
   "source": [
    "Get core poi data and save to a csv file. If not all columns are needed, 'usecol=['col_name', 'col_name', ...]'. If not all dates are needed, adjust range in for loop."
   ]
  },
  {
   "cell_type": "code",
   "execution_count": null,
   "id": "84dbbd9c-b748-4f49-983f-9d0360ce7f11",
   "metadata": {},
   "outputs": [
    {
     "name": "stdout",
     "output_type": "stream",
     "text": [
      "/glade/work/daneta/SafeGraph/SafeGraphData_BatchDownload_on_2022_2_10/core-places-US-Nov2020-present/core_poi/2020/11/06/12/core_poi-part1.csv.gz\n",
      "/glade/work/daneta/SafeGraph/SafeGraphData_BatchDownload_on_2022_2_10/core-places-US-Nov2020-present/core_poi/2020/11/06/12/core_poi-part5.csv.gz\n",
      "/glade/work/daneta/SafeGraph/SafeGraphData_BatchDownload_on_2022_2_10/core-places-US-Nov2020-present/core_poi/2020/11/06/12/core_poi-part2.csv.gz\n",
      "/glade/work/daneta/SafeGraph/SafeGraphData_BatchDownload_on_2022_2_10/core-places-US-Nov2020-present/core_poi/2020/11/06/12/core_poi-part3.csv.gz\n",
      "/glade/work/daneta/SafeGraph/SafeGraphData_BatchDownload_on_2022_2_10/core-places-US-Nov2020-present/core_poi/2020/11/06/12/core_poi-part4.csv.gz\n"
     ]
    }
   ],
   "source": [
    "df_list = []\n",
    "for folder in subsubfolders[:1]:\n",
    "    core_poi_filepath = folder\n",
    "    df = sgpy.read_core_folder(core_poi_filepath,\n",
    "                               # usecols=['placekey', 'safegraph_place_id']\n",
    "                               )\n",
    "    df_list.append(df)\n",
    "poi_df = pd.concat(df_list)\n",
    "poi_df = poi_df.drop_duplicates()\n",
    "poi_df.to_csv(f'poi_all_{year}.csv', index=False)\n",
    "print(poi_df.columns)\n",
    "poi_df.head()"
   ]
  },
  {
   "cell_type": "markdown",
   "id": "db9e0343-e994-4f82-964b-fd7eb698e4af",
   "metadata": {},
   "source": [
    "Alternatively, load previously saved data.\n",
    "\n",
    "TODO - Fix warning about mixed types."
   ]
  },
  {
   "cell_type": "code",
   "execution_count": null,
   "id": "dc4fa276-2839-483d-a84d-675a5694d0d0",
   "metadata": {},
   "outputs": [],
   "source": [
    "year = '2021'\n",
    "filename = f'poi_all_{year}.csv'\n",
    "poi_df = pd.read_csv(filename)\n",
    "print(poi_df.columns)\n",
    "poi_df.head()"
   ]
  },
  {
   "cell_type": "markdown",
   "id": "a5069503-fb56-46eb-b6f3-f4be2d450fac",
   "metadata": {},
   "source": [
    "Filter core poi data by state and columns (must keep 'safegraph_place_id') and save to .csv file. This drastically reduces size of file."
   ]
  },
  {
   "cell_type": "code",
   "execution_count": 132,
   "id": "16487ae2-8754-432b-a2f8-f92d33d1592b",
   "metadata": {},
   "outputs": [
    {
     "name": "stdout",
     "output_type": "stream",
     "text": [
      "(447853, 5)\n"
     ]
    },
    {
     "data": {
      "text/html": [
       "<div>\n",
       "<style scoped>\n",
       "    .dataframe tbody tr th:only-of-type {\n",
       "        vertical-align: middle;\n",
       "    }\n",
       "\n",
       "    .dataframe tbody tr th {\n",
       "        vertical-align: top;\n",
       "    }\n",
       "\n",
       "    .dataframe thead th {\n",
       "        text-align: right;\n",
       "    }\n",
       "</style>\n",
       "<table border=\"1\" class=\"dataframe\">\n",
       "  <thead>\n",
       "    <tr style=\"text-align: right;\">\n",
       "      <th></th>\n",
       "      <th>safegraph_place_id</th>\n",
       "      <th>location_name</th>\n",
       "      <th>naics_code</th>\n",
       "      <th>latitude</th>\n",
       "      <th>longitude</th>\n",
       "    </tr>\n",
       "  </thead>\n",
       "  <tbody>\n",
       "    <tr>\n",
       "      <th>40</th>\n",
       "      <td>sg:02b53f54944c4b1a8d00d25a2121594d</td>\n",
       "      <td>Pigtails &amp; Crewcuts</td>\n",
       "      <td>812112.0</td>\n",
       "      <td>30.527127</td>\n",
       "      <td>-97.814557</td>\n",
       "    </tr>\n",
       "    <tr>\n",
       "      <th>54</th>\n",
       "      <td>sg:0361b3394dbc4d46a50ef4d7561208ca</td>\n",
       "      <td>8th Street Boutique</td>\n",
       "      <td>448120.0</td>\n",
       "      <td>32.350617</td>\n",
       "      <td>-95.299808</td>\n",
       "    </tr>\n",
       "    <tr>\n",
       "      <th>60</th>\n",
       "      <td>sg:03e26b5b4f3b4b2b851d5021ccc9c51e</td>\n",
       "      <td>Navy Federal Credit Union</td>\n",
       "      <td>522130.0</td>\n",
       "      <td>31.772850</td>\n",
       "      <td>-106.399851</td>\n",
       "    </tr>\n",
       "    <tr>\n",
       "      <th>101</th>\n",
       "      <td>sg:07e6c5acf7b94403aab792d62d1cf5c0</td>\n",
       "      <td>Sprouts Farmers Market</td>\n",
       "      <td>445110.0</td>\n",
       "      <td>32.811066</td>\n",
       "      <td>-96.772675</td>\n",
       "    </tr>\n",
       "    <tr>\n",
       "      <th>124</th>\n",
       "      <td>sg:0a0f61967d0949bcaf7b37fadcb66fd9</td>\n",
       "      <td>Boost Mobile</td>\n",
       "      <td>517312.0</td>\n",
       "      <td>33.548494</td>\n",
       "      <td>-101.849862</td>\n",
       "    </tr>\n",
       "  </tbody>\n",
       "</table>\n",
       "</div>"
      ],
      "text/plain": [
       "                      safegraph_place_id              location_name  \\\n",
       "40   sg:02b53f54944c4b1a8d00d25a2121594d        Pigtails & Crewcuts   \n",
       "54   sg:0361b3394dbc4d46a50ef4d7561208ca        8th Street Boutique   \n",
       "60   sg:03e26b5b4f3b4b2b851d5021ccc9c51e  Navy Federal Credit Union   \n",
       "101  sg:07e6c5acf7b94403aab792d62d1cf5c0     Sprouts Farmers Market   \n",
       "124  sg:0a0f61967d0949bcaf7b37fadcb66fd9               Boost Mobile   \n",
       "\n",
       "     naics_code   latitude   longitude  \n",
       "40     812112.0  30.527127  -97.814557  \n",
       "54     448120.0  32.350617  -95.299808  \n",
       "60     522130.0  31.772850 -106.399851  \n",
       "101    445110.0  32.811066  -96.772675  \n",
       "124    517312.0  33.548494 -101.849862  "
      ]
     },
     "execution_count": 132,
     "metadata": {},
     "output_type": "execute_result"
    }
   ],
   "source": [
    "# Filter poi data\n",
    "state = 'TX'\n",
    "columns = ['safegraph_place_id',\n",
    "           'location_name',\n",
    "           'naics_code',\n",
    "           'latitude',\n",
    "           'longitude']\n",
    "filtered_poi_df = poi_df[poi_df['region'] == state]\n",
    "filtered_poi_df = filtered_poi_df[columns]\n",
    "filtered_poi_df.to_csv(f'poi_{state}_{year}.csv', index=False)\n",
    "print(filtered_poi_df.shape)\n",
    "filtered_poi_df.head()"
   ]
  },
  {
   "cell_type": "markdown",
   "id": "7c09b5be-e0f8-41f5-9012-4fc80e935dee",
   "metadata": {},
   "source": [
    "Alternatively, load a previously saved filtered file."
   ]
  },
  {
   "cell_type": "code",
   "execution_count": 5,
   "id": "46cb0192-fa03-4c0c-bddd-1b0ba7cece72",
   "metadata": {},
   "outputs": [
    {
     "name": "stdout",
     "output_type": "stream",
     "text": [
      "Index(['safegraph_place_id', 'location_name', 'naics_code', 'latitude',\n",
      "       'longitude'],\n",
      "      dtype='object')\n"
     ]
    },
    {
     "name": "stderr",
     "output_type": "stream",
     "text": [
      "/glade/derecho/scratch/mbutle15/tmp/ipykernel_38482/2776424985.py:3: DtypeWarning: Columns (0) have mixed types. Specify dtype option on import or set low_memory=False.\n",
      "  poi_df = pd.read_csv(filename)\n"
     ]
    },
    {
     "data": {
      "text/html": [
       "<div>\n",
       "<style scoped>\n",
       "    .dataframe tbody tr th:only-of-type {\n",
       "        vertical-align: middle;\n",
       "    }\n",
       "\n",
       "    .dataframe tbody tr th {\n",
       "        vertical-align: top;\n",
       "    }\n",
       "\n",
       "    .dataframe thead th {\n",
       "        text-align: right;\n",
       "    }\n",
       "</style>\n",
       "<table border=\"1\" class=\"dataframe\">\n",
       "  <thead>\n",
       "    <tr style=\"text-align: right;\">\n",
       "      <th></th>\n",
       "      <th>safegraph_place_id</th>\n",
       "      <th>location_name</th>\n",
       "      <th>naics_code</th>\n",
       "      <th>latitude</th>\n",
       "      <th>longitude</th>\n",
       "    </tr>\n",
       "  </thead>\n",
       "  <tbody>\n",
       "    <tr>\n",
       "      <th>0</th>\n",
       "      <td>sg:02b53f54944c4b1a8d00d25a2121594d</td>\n",
       "      <td>Pigtails &amp; Crewcuts</td>\n",
       "      <td>812112.0</td>\n",
       "      <td>30.529074</td>\n",
       "      <td>-97.814428</td>\n",
       "    </tr>\n",
       "    <tr>\n",
       "      <th>1</th>\n",
       "      <td>sg:0361b3394dbc4d46a50ef4d7561208ca</td>\n",
       "      <td>8th Street Boutique</td>\n",
       "      <td>448120.0</td>\n",
       "      <td>32.350617</td>\n",
       "      <td>-95.299808</td>\n",
       "    </tr>\n",
       "    <tr>\n",
       "      <th>2</th>\n",
       "      <td>sg:07e6c5acf7b94403aab792d62d1cf5c0</td>\n",
       "      <td>Sprouts Farmers Market</td>\n",
       "      <td>445110.0</td>\n",
       "      <td>32.811066</td>\n",
       "      <td>-96.772675</td>\n",
       "    </tr>\n",
       "    <tr>\n",
       "      <th>3</th>\n",
       "      <td>sg:0a0f61967d0949bcaf7b37fadcb66fd9</td>\n",
       "      <td>Boost Mobile</td>\n",
       "      <td>517312.0</td>\n",
       "      <td>33.548494</td>\n",
       "      <td>-101.849862</td>\n",
       "    </tr>\n",
       "    <tr>\n",
       "      <th>4</th>\n",
       "      <td>sg:0bfabeed776044d88151892984c30421</td>\n",
       "      <td>Citywide Prayer Band Outreach Ministry</td>\n",
       "      <td>813110.0</td>\n",
       "      <td>29.868737</td>\n",
       "      <td>-95.488427</td>\n",
       "    </tr>\n",
       "  </tbody>\n",
       "</table>\n",
       "</div>"
      ],
      "text/plain": [
       "                    safegraph_place_id  \\\n",
       "0  sg:02b53f54944c4b1a8d00d25a2121594d   \n",
       "1  sg:0361b3394dbc4d46a50ef4d7561208ca   \n",
       "2  sg:07e6c5acf7b94403aab792d62d1cf5c0   \n",
       "3  sg:0a0f61967d0949bcaf7b37fadcb66fd9   \n",
       "4  sg:0bfabeed776044d88151892984c30421   \n",
       "\n",
       "                            location_name  naics_code   latitude   longitude  \n",
       "0                     Pigtails & Crewcuts    812112.0  30.529074  -97.814428  \n",
       "1                     8th Street Boutique    448120.0  32.350617  -95.299808  \n",
       "2                  Sprouts Farmers Market    445110.0  32.811066  -96.772675  \n",
       "3                            Boost Mobile    517312.0  33.548494 -101.849862  \n",
       "4  Citywide Prayer Band Outreach Ministry    813110.0  29.868737  -95.488427  "
      ]
     },
     "execution_count": 5,
     "metadata": {},
     "output_type": "execute_result"
    }
   ],
   "source": [
    "year = 2021\n",
    "filename = f'poi_TX_{year}.csv'\n",
    "poi_df = pd.read_csv(filename)\n",
    "print(poi_df.columns)\n",
    "poi_df.head()"
   ]
  },
  {
   "cell_type": "code",
   "execution_count": 54,
   "id": "6dd0ad36-b365-4dfa-a693-5d1a8bbfac93",
   "metadata": {},
   "outputs": [
    {
     "data": {
      "text/html": [
       "<div>\n",
       "<style scoped>\n",
       "    .dataframe tbody tr th:only-of-type {\n",
       "        vertical-align: middle;\n",
       "    }\n",
       "\n",
       "    .dataframe tbody tr th {\n",
       "        vertical-align: top;\n",
       "    }\n",
       "\n",
       "    .dataframe thead th {\n",
       "        text-align: right;\n",
       "    }\n",
       "</style>\n",
       "<table border=\"1\" class=\"dataframe\">\n",
       "  <thead>\n",
       "    <tr style=\"text-align: right;\">\n",
       "      <th></th>\n",
       "      <th>safegraph_place_id</th>\n",
       "      <th>location_name</th>\n",
       "      <th>naics_code</th>\n",
       "      <th>latitude</th>\n",
       "      <th>longitude</th>\n",
       "    </tr>\n",
       "  </thead>\n",
       "  <tbody>\n",
       "    <tr>\n",
       "      <th>0</th>\n",
       "      <td>sg:02b53f54944c4b1a8d00d25a2121594d</td>\n",
       "      <td>Pigtails &amp; Crewcuts</td>\n",
       "      <td>812112.0</td>\n",
       "      <td>30.529074</td>\n",
       "      <td>-97.814428</td>\n",
       "    </tr>\n",
       "    <tr>\n",
       "      <th>1</th>\n",
       "      <td>sg:0361b3394dbc4d46a50ef4d7561208ca</td>\n",
       "      <td>8th Street Boutique</td>\n",
       "      <td>448120.0</td>\n",
       "      <td>32.350617</td>\n",
       "      <td>-95.299808</td>\n",
       "    </tr>\n",
       "    <tr>\n",
       "      <th>2</th>\n",
       "      <td>sg:07e6c5acf7b94403aab792d62d1cf5c0</td>\n",
       "      <td>Sprouts Farmers Market</td>\n",
       "      <td>445110.0</td>\n",
       "      <td>32.811066</td>\n",
       "      <td>-96.772675</td>\n",
       "    </tr>\n",
       "    <tr>\n",
       "      <th>3</th>\n",
       "      <td>sg:0a0f61967d0949bcaf7b37fadcb66fd9</td>\n",
       "      <td>Boost Mobile</td>\n",
       "      <td>517312.0</td>\n",
       "      <td>33.548494</td>\n",
       "      <td>-101.849862</td>\n",
       "    </tr>\n",
       "    <tr>\n",
       "      <th>4</th>\n",
       "      <td>sg:0bfabeed776044d88151892984c30421</td>\n",
       "      <td>Citywide Prayer Band Outreach Ministry</td>\n",
       "      <td>813110.0</td>\n",
       "      <td>29.868737</td>\n",
       "      <td>-95.488427</td>\n",
       "    </tr>\n",
       "  </tbody>\n",
       "</table>\n",
       "</div>"
      ],
      "text/plain": [
       "                    safegraph_place_id  \\\n",
       "0  sg:02b53f54944c4b1a8d00d25a2121594d   \n",
       "1  sg:0361b3394dbc4d46a50ef4d7561208ca   \n",
       "2  sg:07e6c5acf7b94403aab792d62d1cf5c0   \n",
       "3  sg:0a0f61967d0949bcaf7b37fadcb66fd9   \n",
       "4  sg:0bfabeed776044d88151892984c30421   \n",
       "\n",
       "                            location_name  naics_code   latitude   longitude  \n",
       "0                     Pigtails & Crewcuts    812112.0  30.529074  -97.814428  \n",
       "1                     8th Street Boutique    448120.0  32.350617  -95.299808  \n",
       "2                  Sprouts Farmers Market    445110.0  32.811066  -96.772675  \n",
       "3                            Boost Mobile    517312.0  33.548494 -101.849862  \n",
       "4  Citywide Prayer Band Outreach Ministry    813110.0  29.868737  -95.488427  "
      ]
     },
     "execution_count": 54,
     "metadata": {},
     "output_type": "execute_result"
    }
   ],
   "source": [
    "poi_df.head()"
   ]
  },
  {
   "cell_type": "markdown",
   "id": "b083aeed-5e69-46d6-8a21-631a28ffbaa4",
   "metadata": {
    "jp-MarkdownHeadingCollapsed": true
   },
   "source": [
    "### 2. Weekly Patterns Data\n",
    "Get weekly patterns data with filtering for needed data."
   ]
  },
  {
   "cell_type": "markdown",
   "id": "b132aa30-7d7c-4b68-b997-46f6508e7621",
   "metadata": {},
   "source": [
    "List directories for weekly patterns data to view dates available. The list is returned sorted alphabetically."
   ]
  },
  {
   "cell_type": "code",
   "execution_count": 6,
   "id": "8b33e580-5500-48f2-bddf-cd225a17067d",
   "metadata": {
    "scrolled": true
   },
   "outputs": [
    {
     "name": "stdout",
     "output_type": "stream",
     "text": [
      "0\n",
      "/glade/work/daneta/SafeGraph/SafeGraphData_BatchDownload_on_2022_2_10/Weekly-Places-Patterns-for-data-from-2020-11-30-to-Present/patterns/2021/01/06/19\n",
      "1\n",
      "/glade/work/daneta/SafeGraph/SafeGraphData_BatchDownload_on_2022_2_10/Weekly-Places-Patterns-for-data-from-2020-11-30-to-Present/patterns/2021/01/13/19\n",
      "2\n",
      "/glade/work/daneta/SafeGraph/SafeGraphData_BatchDownload_on_2022_2_10/Weekly-Places-Patterns-for-data-from-2020-11-30-to-Present/patterns/2021/01/20/19\n",
      "3\n",
      "/glade/work/daneta/SafeGraph/SafeGraphData_BatchDownload_on_2022_2_10/Weekly-Places-Patterns-for-data-from-2020-11-30-to-Present/patterns/2021/01/27/21\n",
      "4\n",
      "/glade/work/daneta/SafeGraph/SafeGraphData_BatchDownload_on_2022_2_10/Weekly-Places-Patterns-for-data-from-2020-11-30-to-Present/patterns/2021/02/03/21\n",
      "5\n",
      "/glade/work/daneta/SafeGraph/SafeGraphData_BatchDownload_on_2022_2_10/Weekly-Places-Patterns-for-data-from-2020-11-30-to-Present/patterns/2021/02/10/19\n",
      "6\n",
      "/glade/work/daneta/SafeGraph/SafeGraphData_BatchDownload_on_2022_2_10/Weekly-Places-Patterns-for-data-from-2020-11-30-to-Present/patterns/2021/02/17/17\n",
      "7\n",
      "/glade/work/daneta/SafeGraph/SafeGraphData_BatchDownload_on_2022_2_10/Weekly-Places-Patterns-for-data-from-2020-11-30-to-Present/patterns/2021/02/24/18\n",
      "8\n",
      "/glade/work/daneta/SafeGraph/SafeGraphData_BatchDownload_on_2022_2_10/Weekly-Places-Patterns-for-data-from-2020-11-30-to-Present/patterns/2021/03/03/22\n",
      "9\n",
      "/glade/work/daneta/SafeGraph/SafeGraphData_BatchDownload_on_2022_2_10/Weekly-Places-Patterns-for-data-from-2020-11-30-to-Present/patterns/2021/03/11/18\n",
      "10\n",
      "/glade/work/daneta/SafeGraph/SafeGraphData_BatchDownload_on_2022_2_10/Weekly-Places-Patterns-for-data-from-2020-11-30-to-Present/patterns/2021/03/17/19\n",
      "11\n",
      "/glade/work/daneta/SafeGraph/SafeGraphData_BatchDownload_on_2022_2_10/Weekly-Places-Patterns-for-data-from-2020-11-30-to-Present/patterns/2021/03/24/18\n",
      "12\n",
      "/glade/work/daneta/SafeGraph/SafeGraphData_BatchDownload_on_2022_2_10/Weekly-Places-Patterns-for-data-from-2020-11-30-to-Present/patterns/2021/03/31/17\n",
      "13\n",
      "/glade/work/daneta/SafeGraph/SafeGraphData_BatchDownload_on_2022_2_10/Weekly-Places-Patterns-for-data-from-2020-11-30-to-Present/patterns/2021/04/07/06\n",
      "14\n",
      "/glade/work/daneta/SafeGraph/SafeGraphData_BatchDownload_on_2022_2_10/Weekly-Places-Patterns-for-data-from-2020-11-30-to-Present/patterns/2021/04/14/04\n",
      "15\n",
      "/glade/work/daneta/SafeGraph/SafeGraphData_BatchDownload_on_2022_2_10/Weekly-Places-Patterns-for-data-from-2020-11-30-to-Present/patterns/2021/04/21/09\n",
      "16\n",
      "/glade/work/daneta/SafeGraph/SafeGraphData_BatchDownload_on_2022_2_10/Weekly-Places-Patterns-for-data-from-2020-11-30-to-Present/patterns/2021/04/28/06\n",
      "17\n",
      "/glade/work/daneta/SafeGraph/SafeGraphData_BatchDownload_on_2022_2_10/Weekly-Places-Patterns-for-data-from-2020-11-30-to-Present/patterns/2021/05/05/20\n",
      "18\n",
      "/glade/work/daneta/SafeGraph/SafeGraphData_BatchDownload_on_2022_2_10/Weekly-Places-Patterns-for-data-from-2020-11-30-to-Present/patterns/2021/05/13/03\n",
      "19\n",
      "/glade/work/daneta/SafeGraph/SafeGraphData_BatchDownload_on_2022_2_10/Weekly-Places-Patterns-for-data-from-2020-11-30-to-Present/patterns/2021/05/19/18\n",
      "20\n",
      "/glade/work/daneta/SafeGraph/SafeGraphData_BatchDownload_on_2022_2_10/Weekly-Places-Patterns-for-data-from-2020-11-30-to-Present/patterns/2021/05/26/18\n",
      "21\n",
      "/glade/work/daneta/SafeGraph/SafeGraphData_BatchDownload_on_2022_2_10/Weekly-Places-Patterns-for-data-from-2020-11-30-to-Present/patterns/2021/06/02/18\n",
      "22\n",
      "/glade/work/daneta/SafeGraph/SafeGraphData_BatchDownload_on_2022_2_10/Weekly-Places-Patterns-for-data-from-2020-11-30-to-Present/patterns/2021/06/09/18\n",
      "23\n",
      "/glade/work/daneta/SafeGraph/SafeGraphData_BatchDownload_on_2022_2_10/Weekly-Places-Patterns-for-data-from-2020-11-30-to-Present/patterns/2021/06/16/18\n",
      "24\n",
      "/glade/work/daneta/SafeGraph/SafeGraphData_BatchDownload_on_2022_2_10/Weekly-Places-Patterns-for-data-from-2020-11-30-to-Present/patterns/2021/06/23/17\n",
      "25\n",
      "/glade/work/daneta/SafeGraph/SafeGraphData_BatchDownload_on_2022_2_10/Weekly-Places-Patterns-for-data-from-2020-11-30-to-Present/patterns/2021/06/30/18\n",
      "26\n",
      "/glade/work/daneta/SafeGraph/SafeGraphData_BatchDownload_on_2022_2_10/Weekly-Places-Patterns-for-data-from-2020-11-30-to-Present/patterns/2021/07/07/20\n",
      "27\n",
      "/glade/work/daneta/SafeGraph/SafeGraphData_BatchDownload_on_2022_2_10/Weekly-Places-Patterns-for-data-from-2020-11-30-to-Present/patterns/2021/07/14/17\n"
     ]
    }
   ],
   "source": [
    "year = '2021'\n",
    "# patterns_root_folder = r'/glade/work/daneta/SafeGraph/SafeGraphData_BatchDownload_on_2022_2_10/Weekly-Places-Patterns-for-data-backfill-for-Dec-2020-and-Onward/patterns_backfill/2020/12/14/21'\n",
    "patterns_root_folder = r'/glade/work/daneta/SafeGraph/SafeGraphData_BatchDownload_on_2022_2_10/Weekly-Places-Patterns-for-data-from-2020-11-30-to-Present/patterns/2021'\n",
    "\n",
    "patterns_folders = list_subsubfolders(patterns_root_folder)\n",
    "for i, folder in enumerate(patterns_folders):\n",
    "    print(i)\n",
    "    print(folder)"
   ]
  },
  {
   "cell_type": "code",
   "execution_count": 28,
   "id": "e4255307-2f4e-427b-a0b2-fddab75d885c",
   "metadata": {},
   "outputs": [
    {
     "name": "stdout",
     "output_type": "stream",
     "text": [
      "28\n"
     ]
    }
   ],
   "source": [
    "print(len(patterns_folders))"
   ]
  },
  {
   "cell_type": "code",
   "execution_count": 29,
   "id": "d5eadb84-29b6-4524-940b-0c15a8279293",
   "metadata": {},
   "outputs": [
    {
     "name": "stdout",
     "output_type": "stream",
     "text": [
      "Index(['placekey', 'parent_placekey', 'location_name', 'street_address',\n",
      "       'city', 'region', 'postal_code', 'iso_country_code',\n",
      "       'safegraph_brand_ids', 'brands', 'date_range_start', 'date_range_end',\n",
      "       'raw_visit_counts', 'raw_visitor_counts', 'visits_by_day',\n",
      "       'visits_by_each_hour', 'poi_cbg', 'visitor_home_cbgs',\n",
      "       'visitor_home_aggregation', 'visitor_daytime_cbgs',\n",
      "       'visitor_country_of_origin', 'distance_from_home', 'median_dwell',\n",
      "       'bucketed_dwell_times', 'related_same_day_brand',\n",
      "       'related_same_week_brand', 'device_type'],\n",
      "      dtype='object')\n"
     ]
    },
    {
     "data": {
      "text/html": [
       "<div>\n",
       "<style scoped>\n",
       "    .dataframe tbody tr th:only-of-type {\n",
       "        vertical-align: middle;\n",
       "    }\n",
       "\n",
       "    .dataframe tbody tr th {\n",
       "        vertical-align: top;\n",
       "    }\n",
       "\n",
       "    .dataframe thead th {\n",
       "        text-align: right;\n",
       "    }\n",
       "</style>\n",
       "<table border=\"1\" class=\"dataframe\">\n",
       "  <thead>\n",
       "    <tr style=\"text-align: right;\">\n",
       "      <th></th>\n",
       "      <th>placekey</th>\n",
       "      <th>parent_placekey</th>\n",
       "      <th>location_name</th>\n",
       "      <th>street_address</th>\n",
       "      <th>city</th>\n",
       "      <th>region</th>\n",
       "      <th>postal_code</th>\n",
       "      <th>iso_country_code</th>\n",
       "      <th>safegraph_brand_ids</th>\n",
       "      <th>brands</th>\n",
       "      <th>...</th>\n",
       "      <th>visitor_home_cbgs</th>\n",
       "      <th>visitor_home_aggregation</th>\n",
       "      <th>visitor_daytime_cbgs</th>\n",
       "      <th>visitor_country_of_origin</th>\n",
       "      <th>distance_from_home</th>\n",
       "      <th>median_dwell</th>\n",
       "      <th>bucketed_dwell_times</th>\n",
       "      <th>related_same_day_brand</th>\n",
       "      <th>related_same_week_brand</th>\n",
       "      <th>device_type</th>\n",
       "    </tr>\n",
       "  </thead>\n",
       "  <tbody>\n",
       "    <tr>\n",
       "      <th>0</th>\n",
       "      <td>223-222@8gd-nfm-gff</td>\n",
       "      <td>NaN</td>\n",
       "      <td>Doug's Auto Collision Center</td>\n",
       "      <td>2985 E Oglethorpe Hwy</td>\n",
       "      <td>Hinesville</td>\n",
       "      <td>GA</td>\n",
       "      <td>31313</td>\n",
       "      <td>US</td>\n",
       "      <td>NaN</td>\n",
       "      <td>NaN</td>\n",
       "      <td>...</td>\n",
       "      <td>{\"131790104001\":4}</td>\n",
       "      <td>{\"13179010400\":4}</td>\n",
       "      <td>{}</td>\n",
       "      <td>{\"US\":4}</td>\n",
       "      <td>NaN</td>\n",
       "      <td>4.5</td>\n",
       "      <td>{\"&lt;5\":2,\"5-10\":2,\"11-20\":0,\"21-60\":0,\"61-120\":...</td>\n",
       "      <td>{}</td>\n",
       "      <td>{}</td>\n",
       "      <td>{\"android\":0,\"ios\":4}</td>\n",
       "    </tr>\n",
       "    <tr>\n",
       "      <th>1</th>\n",
       "      <td>zzz-222@63j-f68-6rk</td>\n",
       "      <td>NaN</td>\n",
       "      <td>Activity Center Park</td>\n",
       "      <td>185 Hampton Rd</td>\n",
       "      <td>Centerville</td>\n",
       "      <td>OH</td>\n",
       "      <td>45459</td>\n",
       "      <td>US</td>\n",
       "      <td>NaN</td>\n",
       "      <td>NaN</td>\n",
       "      <td>...</td>\n",
       "      <td>{\"391130404031\":4,\"391093651011\":4,\"3911304030...</td>\n",
       "      <td>{\"39113040401\":6,\"39113040306\":6,\"39113040305\"...</td>\n",
       "      <td>{\"391130403063\":5,\"390572201001\":4,\"3911309030...</td>\n",
       "      <td>{\"US\":77}</td>\n",
       "      <td>6750.0</td>\n",
       "      <td>46.0</td>\n",
       "      <td>{\"&lt;5\":1,\"5-10\":12,\"11-20\":8,\"21-60\":51,\"61-120...</td>\n",
       "      <td>{\"Speedway\":14,\"McDonald's\":9,\"Chick-fil-A\":7,...</td>\n",
       "      <td>{\"McDonald's\":32,\"Speedway\":28,\"Kroger Fuel Ce...</td>\n",
       "      <td>{\"android\":35,\"ios\":38}</td>\n",
       "    </tr>\n",
       "    <tr>\n",
       "      <th>2</th>\n",
       "      <td>22b-222@5s8-cjs-rx5</td>\n",
       "      <td>NaN</td>\n",
       "      <td>Rainbow Child Development Center</td>\n",
       "      <td>605 Como Ave</td>\n",
       "      <td>Saint Paul</td>\n",
       "      <td>MN</td>\n",
       "      <td>55103</td>\n",
       "      <td>US</td>\n",
       "      <td>NaN</td>\n",
       "      <td>NaN</td>\n",
       "      <td>...</td>\n",
       "      <td>{}</td>\n",
       "      <td>{}</td>\n",
       "      <td>{}</td>\n",
       "      <td>{}</td>\n",
       "      <td>NaN</td>\n",
       "      <td>12.0</td>\n",
       "      <td>{\"&lt;5\":0,\"5-10\":0,\"11-20\":1,\"21-60\":0,\"61-120\":...</td>\n",
       "      <td>{}</td>\n",
       "      <td>{}</td>\n",
       "      <td>{\"android\":4,\"ios\":0}</td>\n",
       "    </tr>\n",
       "    <tr>\n",
       "      <th>3</th>\n",
       "      <td>223-222@5pt-52d-py9</td>\n",
       "      <td>NaN</td>\n",
       "      <td>Panda Garden</td>\n",
       "      <td>2801 W Kingshighway Ste 1</td>\n",
       "      <td>Paragould</td>\n",
       "      <td>AR</td>\n",
       "      <td>72450</td>\n",
       "      <td>US</td>\n",
       "      <td>NaN</td>\n",
       "      <td>NaN</td>\n",
       "      <td>...</td>\n",
       "      <td>{\"050554802002\":7,\"050554808012\":5,\"0505548050...</td>\n",
       "      <td>{\"05055480801\":9,\"05055480500\":8,\"05055480200\"...</td>\n",
       "      <td>{\"050554805003\":6,\"050554802002\":4,\"0505548040...</td>\n",
       "      <td>{\"US\":53}</td>\n",
       "      <td>6401.0</td>\n",
       "      <td>22.0</td>\n",
       "      <td>{\"&lt;5\":4,\"5-10\":16,\"11-20\":7,\"21-60\":24,\"61-120...</td>\n",
       "      <td>{\"Walmart\":30,\"Kum &amp; Go\":16,\"Sonic\":14,\"PetSma...</td>\n",
       "      <td>{\"Walmart\":80,\"Sonic\":57,\"Dollar General\":44,\"...</td>\n",
       "      <td>{\"android\":20,\"ios\":29}</td>\n",
       "    </tr>\n",
       "    <tr>\n",
       "      <th>4</th>\n",
       "      <td>222-222@5pw-6cg-fzz</td>\n",
       "      <td>NaN</td>\n",
       "      <td>Senior Lifestyle</td>\n",
       "      <td>8300 S Cottage Grove Ave</td>\n",
       "      <td>Chicago</td>\n",
       "      <td>IL</td>\n",
       "      <td>60619</td>\n",
       "      <td>US</td>\n",
       "      <td>SG_BRAND_0268ea466434672b</td>\n",
       "      <td>Senior Lifestyle</td>\n",
       "      <td>...</td>\n",
       "      <td>{}</td>\n",
       "      <td>{}</td>\n",
       "      <td>{}</td>\n",
       "      <td>{\"US\":4}</td>\n",
       "      <td>NaN</td>\n",
       "      <td>8.0</td>\n",
       "      <td>{\"&lt;5\":1,\"5-10\":1,\"11-20\":1,\"21-60\":0,\"61-120\":...</td>\n",
       "      <td>{}</td>\n",
       "      <td>{}</td>\n",
       "      <td>{\"android\":5,\"ios\":4}</td>\n",
       "    </tr>\n",
       "  </tbody>\n",
       "</table>\n",
       "<p>5 rows × 27 columns</p>\n",
       "</div>"
      ],
      "text/plain": [
       "              placekey parent_placekey                     location_name  \\\n",
       "0  223-222@8gd-nfm-gff             NaN      Doug's Auto Collision Center   \n",
       "1  zzz-222@63j-f68-6rk             NaN              Activity Center Park   \n",
       "2  22b-222@5s8-cjs-rx5             NaN  Rainbow Child Development Center   \n",
       "3  223-222@5pt-52d-py9             NaN                      Panda Garden   \n",
       "4  222-222@5pw-6cg-fzz             NaN                  Senior Lifestyle   \n",
       "\n",
       "              street_address         city region postal_code iso_country_code  \\\n",
       "0      2985 E Oglethorpe Hwy   Hinesville     GA       31313               US   \n",
       "1             185 Hampton Rd  Centerville     OH       45459               US   \n",
       "2               605 Como Ave   Saint Paul     MN       55103               US   \n",
       "3  2801 W Kingshighway Ste 1    Paragould     AR       72450               US   \n",
       "4   8300 S Cottage Grove Ave      Chicago     IL       60619               US   \n",
       "\n",
       "         safegraph_brand_ids            brands  ...  \\\n",
       "0                        NaN               NaN  ...   \n",
       "1                        NaN               NaN  ...   \n",
       "2                        NaN               NaN  ...   \n",
       "3                        NaN               NaN  ...   \n",
       "4  SG_BRAND_0268ea466434672b  Senior Lifestyle  ...   \n",
       "\n",
       "                                   visitor_home_cbgs  \\\n",
       "0                                 {\"131790104001\":4}   \n",
       "1  {\"391130404031\":4,\"391093651011\":4,\"3911304030...   \n",
       "2                                                 {}   \n",
       "3  {\"050554802002\":7,\"050554808012\":5,\"0505548050...   \n",
       "4                                                 {}   \n",
       "\n",
       "                            visitor_home_aggregation  \\\n",
       "0                                  {\"13179010400\":4}   \n",
       "1  {\"39113040401\":6,\"39113040306\":6,\"39113040305\"...   \n",
       "2                                                 {}   \n",
       "3  {\"05055480801\":9,\"05055480500\":8,\"05055480200\"...   \n",
       "4                                                 {}   \n",
       "\n",
       "                                visitor_daytime_cbgs  \\\n",
       "0                                                 {}   \n",
       "1  {\"391130403063\":5,\"390572201001\":4,\"3911309030...   \n",
       "2                                                 {}   \n",
       "3  {\"050554805003\":6,\"050554802002\":4,\"0505548040...   \n",
       "4                                                 {}   \n",
       "\n",
       "   visitor_country_of_origin distance_from_home median_dwell  \\\n",
       "0                   {\"US\":4}                NaN          4.5   \n",
       "1                  {\"US\":77}             6750.0         46.0   \n",
       "2                         {}                NaN         12.0   \n",
       "3                  {\"US\":53}             6401.0         22.0   \n",
       "4                   {\"US\":4}                NaN          8.0   \n",
       "\n",
       "                                bucketed_dwell_times  \\\n",
       "0  {\"<5\":2,\"5-10\":2,\"11-20\":0,\"21-60\":0,\"61-120\":...   \n",
       "1  {\"<5\":1,\"5-10\":12,\"11-20\":8,\"21-60\":51,\"61-120...   \n",
       "2  {\"<5\":0,\"5-10\":0,\"11-20\":1,\"21-60\":0,\"61-120\":...   \n",
       "3  {\"<5\":4,\"5-10\":16,\"11-20\":7,\"21-60\":24,\"61-120...   \n",
       "4  {\"<5\":1,\"5-10\":1,\"11-20\":1,\"21-60\":0,\"61-120\":...   \n",
       "\n",
       "                              related_same_day_brand  \\\n",
       "0                                                 {}   \n",
       "1  {\"Speedway\":14,\"McDonald's\":9,\"Chick-fil-A\":7,...   \n",
       "2                                                 {}   \n",
       "3  {\"Walmart\":30,\"Kum & Go\":16,\"Sonic\":14,\"PetSma...   \n",
       "4                                                 {}   \n",
       "\n",
       "                             related_same_week_brand              device_type  \n",
       "0                                                 {}    {\"android\":0,\"ios\":4}  \n",
       "1  {\"McDonald's\":32,\"Speedway\":28,\"Kroger Fuel Ce...  {\"android\":35,\"ios\":38}  \n",
       "2                                                 {}    {\"android\":4,\"ios\":0}  \n",
       "3  {\"Walmart\":80,\"Sonic\":57,\"Dollar General\":44,\"...  {\"android\":20,\"ios\":29}  \n",
       "4                                                 {}    {\"android\":5,\"ios\":4}  \n",
       "\n",
       "[5 rows x 27 columns]"
      ]
     },
     "execution_count": 29,
     "metadata": {},
     "output_type": "execute_result"
    }
   ],
   "source": [
    "# Read one file for column names\n",
    "patterns_onefile = sgpy.read_pattern_single('/glade/work/daneta/SafeGraph/SafeGraphData_BatchDownload_on_2022_2_10/Weekly-Places-Patterns-for-data-from-2020-11-30-to-Present/patterns/2021/07/14/17/patterns-part1.csv.gz')\n",
    "print(patterns_onefile.columns)\n",
    "patterns_onefile.head()"
   ]
  },
  {
   "cell_type": "markdown",
   "id": "f246659f-4a79-410d-a3c9-1390fd617e13",
   "metadata": {},
   "source": [
    "Get weekly visits for a specific number of weeks (alternatively, adjust range in for loop). Specify columns (must keep 'safegraph_place_id' and 'date_range_end') and FIPS code for desired region. This drops any NA values for POI cbgs and creates a list of dataframes, each list entry contains one week."
   ]
  },
  {
   "cell_type": "code",
   "execution_count": 7,
   "id": "47a6bd43-db1d-40fa-8ca2-327d920ad767",
   "metadata": {},
   "outputs": [
    {
     "name": "stdout",
     "output_type": "stream",
     "text": [
      "/glade/work/daneta/SafeGraph/SafeGraphData_BatchDownload_on_2022_2_10/Weekly-Places-Patterns-for-data-from-2020-11-30-to-Present/patterns/2021/01/06/19/patterns-part3.csv.gz\n",
      "/glade/work/daneta/SafeGraph/SafeGraphData_BatchDownload_on_2022_2_10/Weekly-Places-Patterns-for-data-from-2020-11-30-to-Present/patterns/2021/01/06/19/patterns-part4.csv.gz\n",
      "/glade/work/daneta/SafeGraph/SafeGraphData_BatchDownload_on_2022_2_10/Weekly-Places-Patterns-for-data-from-2020-11-30-to-Present/patterns/2021/01/06/19/patterns-part2.csv.gz\n",
      "/glade/work/daneta/SafeGraph/SafeGraphData_BatchDownload_on_2022_2_10/Weekly-Places-Patterns-for-data-from-2020-11-30-to-Present/patterns/2021/01/06/19/patterns-part1.csv.gz\n",
      "/glade/work/daneta/SafeGraph/SafeGraphData_BatchDownload_on_2022_2_10/Weekly-Places-Patterns-for-data-from-2020-11-30-to-Present/patterns/2021/01/13/19/patterns-part3.csv.gz\n",
      "/glade/work/daneta/SafeGraph/SafeGraphData_BatchDownload_on_2022_2_10/Weekly-Places-Patterns-for-data-from-2020-11-30-to-Present/patterns/2021/01/13/19/patterns-part5.csv.gz\n",
      "/glade/work/daneta/SafeGraph/SafeGraphData_BatchDownload_on_2022_2_10/Weekly-Places-Patterns-for-data-from-2020-11-30-to-Present/patterns/2021/01/13/19/patterns-part4.csv.gz\n",
      "/glade/work/daneta/SafeGraph/SafeGraphData_BatchDownload_on_2022_2_10/Weekly-Places-Patterns-for-data-from-2020-11-30-to-Present/patterns/2021/01/13/19/patterns-part2.csv.gz\n",
      "/glade/work/daneta/SafeGraph/SafeGraphData_BatchDownload_on_2022_2_10/Weekly-Places-Patterns-for-data-from-2020-11-30-to-Present/patterns/2021/01/13/19/patterns-part1.csv.gz\n",
      "/glade/work/daneta/SafeGraph/SafeGraphData_BatchDownload_on_2022_2_10/Weekly-Places-Patterns-for-data-from-2020-11-30-to-Present/patterns/2021/01/20/19/patterns-part3.csv.gz\n",
      "/glade/work/daneta/SafeGraph/SafeGraphData_BatchDownload_on_2022_2_10/Weekly-Places-Patterns-for-data-from-2020-11-30-to-Present/patterns/2021/01/20/19/patterns-part5.csv.gz\n",
      "/glade/work/daneta/SafeGraph/SafeGraphData_BatchDownload_on_2022_2_10/Weekly-Places-Patterns-for-data-from-2020-11-30-to-Present/patterns/2021/01/20/19/patterns-part4.csv.gz\n",
      "/glade/work/daneta/SafeGraph/SafeGraphData_BatchDownload_on_2022_2_10/Weekly-Places-Patterns-for-data-from-2020-11-30-to-Present/patterns/2021/01/20/19/patterns-part2.csv.gz\n",
      "/glade/work/daneta/SafeGraph/SafeGraphData_BatchDownload_on_2022_2_10/Weekly-Places-Patterns-for-data-from-2020-11-30-to-Present/patterns/2021/01/20/19/patterns-part1.csv.gz\n",
      "/glade/work/daneta/SafeGraph/SafeGraphData_BatchDownload_on_2022_2_10/Weekly-Places-Patterns-for-data-from-2020-11-30-to-Present/patterns/2021/01/27/21/patterns-part3.csv.gz\n",
      "/glade/work/daneta/SafeGraph/SafeGraphData_BatchDownload_on_2022_2_10/Weekly-Places-Patterns-for-data-from-2020-11-30-to-Present/patterns/2021/01/27/21/patterns-part4.csv.gz\n",
      "/glade/work/daneta/SafeGraph/SafeGraphData_BatchDownload_on_2022_2_10/Weekly-Places-Patterns-for-data-from-2020-11-30-to-Present/patterns/2021/01/27/21/patterns-part2.csv.gz\n",
      "/glade/work/daneta/SafeGraph/SafeGraphData_BatchDownload_on_2022_2_10/Weekly-Places-Patterns-for-data-from-2020-11-30-to-Present/patterns/2021/01/27/21/patterns-part1.csv.gz\n",
      "/glade/work/daneta/SafeGraph/SafeGraphData_BatchDownload_on_2022_2_10/Weekly-Places-Patterns-for-data-from-2020-11-30-to-Present/patterns/2021/02/03/21/patterns-part3.csv.gz\n"
     ]
    },
    {
     "ename": "ParserError",
     "evalue": "Error tokenizing data. C error: Calling read(nbytes) on source failed. Try engine='python'.",
     "output_type": "error",
     "traceback": [
      "\u001b[0;31m---------------------------------------------------------------------------\u001b[0m",
      "\u001b[0;31mParserError\u001b[0m                               Traceback (most recent call last)",
      "Cell \u001b[0;32mIn[7], line 17\u001b[0m\n\u001b[1;32m     15\u001b[0m \u001b[38;5;66;03m# Change index for subcategory of weeks\u001b[39;00m\n\u001b[1;32m     16\u001b[0m \u001b[38;5;28;01mfor\u001b[39;00m folder \u001b[38;5;129;01min\u001b[39;00m patterns_folders:\n\u001b[0;32m---> 17\u001b[0m     patterns_df \u001b[38;5;241m=\u001b[39m \u001b[43msgpy\u001b[49m\u001b[38;5;241;43m.\u001b[39;49m\u001b[43mread_pattern_multi\u001b[49m\u001b[43m(\u001b[49m\u001b[43mfolder\u001b[49m\u001b[43m,\u001b[49m\u001b[43m \u001b[49m\u001b[43musecols\u001b[49m\u001b[38;5;241;43m=\u001b[39;49m\u001b[43mcolumns\u001b[49m\u001b[43m)\u001b[49m\n\u001b[1;32m     18\u001b[0m     patterns_df \u001b[38;5;241m=\u001b[39m patterns_df\u001b[38;5;241m.\u001b[39mdropna(subset\u001b[38;5;241m=\u001b[39m[\u001b[38;5;124m'\u001b[39m\u001b[38;5;124mpoi_cbg\u001b[39m\u001b[38;5;124m'\u001b[39m])\n\u001b[1;32m     19\u001b[0m     filtered_patterns_df \u001b[38;5;241m=\u001b[39m patterns_df[patterns_df[\u001b[38;5;124m'\u001b[39m\u001b[38;5;124mpoi_cbg\u001b[39m\u001b[38;5;124m'\u001b[39m]\u001b[38;5;241m.\u001b[39mstr\u001b[38;5;241m.\u001b[39mstartswith(FIPS)]\n",
      "File \u001b[0;32m~/.local/lib/python3.10/site-packages/safegraph_py_functions/safegraph_py_functions.py:297\u001b[0m, in \u001b[0;36mread_pattern_multi\u001b[0;34m(path_to_pattern, compression, dtype, *args, **kwargs)\u001b[0m\n\u001b[1;32m    295\u001b[0m \u001b[38;5;28;01mfor\u001b[39;00m pattern \u001b[38;5;129;01min\u001b[39;00m pattern_files:\n\u001b[1;32m    296\u001b[0m     \u001b[38;5;28mprint\u001b[39m(pattern)\n\u001b[0;32m--> 297\u001b[0m     df \u001b[38;5;241m=\u001b[39m \u001b[43mpd\u001b[49m\u001b[38;5;241;43m.\u001b[39;49m\u001b[43mread_csv\u001b[49m\u001b[43m(\u001b[49m\u001b[43mpattern\u001b[49m\u001b[43m,\u001b[49m\u001b[43m \u001b[49m\u001b[43mcompression\u001b[49m\u001b[38;5;241;43m=\u001b[39;49m\u001b[43mcompression\u001b[49m\u001b[43m,\u001b[49m\u001b[43m \u001b[49m\u001b[43mdtype\u001b[49m\u001b[38;5;241;43m=\u001b[39;49m\u001b[43mdtype\u001b[49m\u001b[43m,\u001b[49m\u001b[43m \u001b[49m\u001b[38;5;241;43m*\u001b[39;49m\u001b[43margs\u001b[49m\u001b[43m,\u001b[49m\u001b[43m \u001b[49m\u001b[38;5;241;43m*\u001b[39;49m\u001b[38;5;241;43m*\u001b[39;49m\u001b[43mkwargs\u001b[49m\u001b[43m)\u001b[49m\n\u001b[1;32m    298\u001b[0m     li\u001b[38;5;241m.\u001b[39mappend(df)\n\u001b[1;32m    300\u001b[0m SG_pattern \u001b[38;5;241m=\u001b[39m pd\u001b[38;5;241m.\u001b[39mconcat(li, axis\u001b[38;5;241m=\u001b[39m\u001b[38;5;241m0\u001b[39m)\n",
      "File \u001b[0;32m/glade/u/apps/jupyterhub/jh-23.11/lib/python3.10/site-packages/pandas/io/parsers/readers.py:948\u001b[0m, in \u001b[0;36mread_csv\u001b[0;34m(filepath_or_buffer, sep, delimiter, header, names, index_col, usecols, dtype, engine, converters, true_values, false_values, skipinitialspace, skiprows, skipfooter, nrows, na_values, keep_default_na, na_filter, verbose, skip_blank_lines, parse_dates, infer_datetime_format, keep_date_col, date_parser, date_format, dayfirst, cache_dates, iterator, chunksize, compression, thousands, decimal, lineterminator, quotechar, quoting, doublequote, escapechar, comment, encoding, encoding_errors, dialect, on_bad_lines, delim_whitespace, low_memory, memory_map, float_precision, storage_options, dtype_backend)\u001b[0m\n\u001b[1;32m    935\u001b[0m kwds_defaults \u001b[38;5;241m=\u001b[39m _refine_defaults_read(\n\u001b[1;32m    936\u001b[0m     dialect,\n\u001b[1;32m    937\u001b[0m     delimiter,\n\u001b[0;32m   (...)\u001b[0m\n\u001b[1;32m    944\u001b[0m     dtype_backend\u001b[38;5;241m=\u001b[39mdtype_backend,\n\u001b[1;32m    945\u001b[0m )\n\u001b[1;32m    946\u001b[0m kwds\u001b[38;5;241m.\u001b[39mupdate(kwds_defaults)\n\u001b[0;32m--> 948\u001b[0m \u001b[38;5;28;01mreturn\u001b[39;00m \u001b[43m_read\u001b[49m\u001b[43m(\u001b[49m\u001b[43mfilepath_or_buffer\u001b[49m\u001b[43m,\u001b[49m\u001b[43m \u001b[49m\u001b[43mkwds\u001b[49m\u001b[43m)\u001b[49m\n",
      "File \u001b[0;32m/glade/u/apps/jupyterhub/jh-23.11/lib/python3.10/site-packages/pandas/io/parsers/readers.py:617\u001b[0m, in \u001b[0;36m_read\u001b[0;34m(filepath_or_buffer, kwds)\u001b[0m\n\u001b[1;32m    614\u001b[0m     \u001b[38;5;28;01mreturn\u001b[39;00m parser\n\u001b[1;32m    616\u001b[0m \u001b[38;5;28;01mwith\u001b[39;00m parser:\n\u001b[0;32m--> 617\u001b[0m     \u001b[38;5;28;01mreturn\u001b[39;00m \u001b[43mparser\u001b[49m\u001b[38;5;241;43m.\u001b[39;49m\u001b[43mread\u001b[49m\u001b[43m(\u001b[49m\u001b[43mnrows\u001b[49m\u001b[43m)\u001b[49m\n",
      "File \u001b[0;32m/glade/u/apps/jupyterhub/jh-23.11/lib/python3.10/site-packages/pandas/io/parsers/readers.py:1748\u001b[0m, in \u001b[0;36mTextFileReader.read\u001b[0;34m(self, nrows)\u001b[0m\n\u001b[1;32m   1741\u001b[0m nrows \u001b[38;5;241m=\u001b[39m validate_integer(\u001b[38;5;124m\"\u001b[39m\u001b[38;5;124mnrows\u001b[39m\u001b[38;5;124m\"\u001b[39m, nrows)\n\u001b[1;32m   1742\u001b[0m \u001b[38;5;28;01mtry\u001b[39;00m:\n\u001b[1;32m   1743\u001b[0m     \u001b[38;5;66;03m# error: \"ParserBase\" has no attribute \"read\"\u001b[39;00m\n\u001b[1;32m   1744\u001b[0m     (\n\u001b[1;32m   1745\u001b[0m         index,\n\u001b[1;32m   1746\u001b[0m         columns,\n\u001b[1;32m   1747\u001b[0m         col_dict,\n\u001b[0;32m-> 1748\u001b[0m     ) \u001b[38;5;241m=\u001b[39m \u001b[38;5;28;43mself\u001b[39;49m\u001b[38;5;241;43m.\u001b[39;49m\u001b[43m_engine\u001b[49m\u001b[38;5;241;43m.\u001b[39;49m\u001b[43mread\u001b[49m\u001b[43m(\u001b[49m\u001b[43m  \u001b[49m\u001b[38;5;66;43;03m# type: ignore[attr-defined]\u001b[39;49;00m\n\u001b[1;32m   1749\u001b[0m \u001b[43m        \u001b[49m\u001b[43mnrows\u001b[49m\n\u001b[1;32m   1750\u001b[0m \u001b[43m    \u001b[49m\u001b[43m)\u001b[49m\n\u001b[1;32m   1751\u001b[0m \u001b[38;5;28;01mexcept\u001b[39;00m \u001b[38;5;167;01mException\u001b[39;00m:\n\u001b[1;32m   1752\u001b[0m     \u001b[38;5;28mself\u001b[39m\u001b[38;5;241m.\u001b[39mclose()\n",
      "File \u001b[0;32m/glade/u/apps/jupyterhub/jh-23.11/lib/python3.10/site-packages/pandas/io/parsers/c_parser_wrapper.py:234\u001b[0m, in \u001b[0;36mCParserWrapper.read\u001b[0;34m(self, nrows)\u001b[0m\n\u001b[1;32m    232\u001b[0m \u001b[38;5;28;01mtry\u001b[39;00m:\n\u001b[1;32m    233\u001b[0m     \u001b[38;5;28;01mif\u001b[39;00m \u001b[38;5;28mself\u001b[39m\u001b[38;5;241m.\u001b[39mlow_memory:\n\u001b[0;32m--> 234\u001b[0m         chunks \u001b[38;5;241m=\u001b[39m \u001b[38;5;28;43mself\u001b[39;49m\u001b[38;5;241;43m.\u001b[39;49m\u001b[43m_reader\u001b[49m\u001b[38;5;241;43m.\u001b[39;49m\u001b[43mread_low_memory\u001b[49m\u001b[43m(\u001b[49m\u001b[43mnrows\u001b[49m\u001b[43m)\u001b[49m\n\u001b[1;32m    235\u001b[0m         \u001b[38;5;66;03m# destructive to chunks\u001b[39;00m\n\u001b[1;32m    236\u001b[0m         data \u001b[38;5;241m=\u001b[39m _concatenate_chunks(chunks)\n",
      "File \u001b[0;32mparsers.pyx:843\u001b[0m, in \u001b[0;36mpandas._libs.parsers.TextReader.read_low_memory\u001b[0;34m()\u001b[0m\n",
      "File \u001b[0;32mparsers.pyx:904\u001b[0m, in \u001b[0;36mpandas._libs.parsers.TextReader._read_rows\u001b[0;34m()\u001b[0m\n",
      "File \u001b[0;32mparsers.pyx:879\u001b[0m, in \u001b[0;36mpandas._libs.parsers.TextReader._tokenize_rows\u001b[0;34m()\u001b[0m\n",
      "File \u001b[0;32mparsers.pyx:890\u001b[0m, in \u001b[0;36mpandas._libs.parsers.TextReader._check_tokenize_status\u001b[0;34m()\u001b[0m\n",
      "File \u001b[0;32mparsers.pyx:2058\u001b[0m, in \u001b[0;36mpandas._libs.parsers.raise_parser_error\u001b[0;34m()\u001b[0m\n",
      "\u001b[0;31mParserError\u001b[0m: Error tokenizing data. C error: Calling read(nbytes) on source failed. Try engine='python'."
     ]
    }
   ],
   "source": [
    "\n",
    "columns = ['poi_cbg',\n",
    "           'visitor_home_cbgs',\n",
    "           'raw_visit_counts',\n",
    "           'raw_visitor_counts',\n",
    "           'safegraph_place_id',\n",
    "           'date_range_end',\n",
    "           'device_type',\n",
    "           'distance_from_home']\n",
    "\n",
    "FIPS = '48201'\n",
    "\n",
    "patterns_df_list = []\n",
    "filtered_patterns_df_list = []\n",
    "\n",
    "# Change index for subcategory of weeks\n",
    "for folder in patterns_folders:\n",
    "    patterns_df = sgpy.read_pattern_multi(folder, usecols=columns)\n",
    "    patterns_df = patterns_df.dropna(subset=['poi_cbg'])\n",
    "    filtered_patterns_df = patterns_df[patterns_df['poi_cbg'].str.startswith(FIPS)]\n",
    "    patterns_df_list.append(patterns_df)\n",
    "    filtered_patterns_df_list.append(filtered_patterns_df)"
   ]
  },
  {
   "cell_type": "code",
   "execution_count": 31,
   "id": "9e421eec-634b-401b-ab0e-b6b9f797151d",
   "metadata": {},
   "outputs": [
    {
     "name": "stdout",
     "output_type": "stream",
     "text": [
      "26\n"
     ]
    },
    {
     "data": {
      "text/html": [
       "<div>\n",
       "<style scoped>\n",
       "    .dataframe tbody tr th:only-of-type {\n",
       "        vertical-align: middle;\n",
       "    }\n",
       "\n",
       "    .dataframe tbody tr th {\n",
       "        vertical-align: top;\n",
       "    }\n",
       "\n",
       "    .dataframe thead th {\n",
       "        text-align: right;\n",
       "    }\n",
       "</style>\n",
       "<table border=\"1\" class=\"dataframe\">\n",
       "  <thead>\n",
       "    <tr style=\"text-align: right;\">\n",
       "      <th></th>\n",
       "      <th>safegraph_place_id</th>\n",
       "      <th>date_range_end</th>\n",
       "      <th>raw_visit_counts</th>\n",
       "      <th>raw_visitor_counts</th>\n",
       "      <th>poi_cbg</th>\n",
       "      <th>visitor_home_cbgs</th>\n",
       "      <th>distance_from_home</th>\n",
       "      <th>device_type</th>\n",
       "    </tr>\n",
       "  </thead>\n",
       "  <tbody>\n",
       "    <tr>\n",
       "      <th>23</th>\n",
       "      <td>sg:01e5cf1972a9453ab650d070d4edb3ae</td>\n",
       "      <td>2021-01-04T00:00:00-06:00</td>\n",
       "      <td>1</td>\n",
       "      <td>1</td>\n",
       "      <td>482012205002</td>\n",
       "      <td>{}</td>\n",
       "      <td>NaN</td>\n",
       "      <td>{\"android\":0,\"ios\":0}</td>\n",
       "    </tr>\n",
       "    <tr>\n",
       "      <th>82</th>\n",
       "      <td>sg:06be9d3b7b484bdf962683759313bd66</td>\n",
       "      <td>2021-01-04T00:00:00-06:00</td>\n",
       "      <td>2</td>\n",
       "      <td>2</td>\n",
       "      <td>482014311022</td>\n",
       "      <td>{}</td>\n",
       "      <td>NaN</td>\n",
       "      <td>{\"android\":0,\"ios\":0}</td>\n",
       "    </tr>\n",
       "    <tr>\n",
       "      <th>113</th>\n",
       "      <td>sg:09368ac62c134897b98ba739cda14fee</td>\n",
       "      <td>2021-01-04T00:00:00-06:00</td>\n",
       "      <td>12</td>\n",
       "      <td>7</td>\n",
       "      <td>482015546002</td>\n",
       "      <td>{\"482015545022\":4}</td>\n",
       "      <td>2901.0</td>\n",
       "      <td>{\"android\":4,\"ios\":4}</td>\n",
       "    </tr>\n",
       "    <tr>\n",
       "      <th>196</th>\n",
       "      <td>sg:118be774dd0847d98d91dfe48930d7d6</td>\n",
       "      <td>2021-01-04T00:00:00-06:00</td>\n",
       "      <td>54</td>\n",
       "      <td>33</td>\n",
       "      <td>482014222003</td>\n",
       "      <td>{\"482014236003\":4,\"482014222001\":4,\"4815767110...</td>\n",
       "      <td>13497.0</td>\n",
       "      <td>{\"android\":15,\"ios\":18}</td>\n",
       "    </tr>\n",
       "    <tr>\n",
       "      <th>324</th>\n",
       "      <td>sg:1e81f3e133184602a32cbffd26d8bbc5</td>\n",
       "      <td>2021-01-04T00:00:00-06:00</td>\n",
       "      <td>6</td>\n",
       "      <td>4</td>\n",
       "      <td>482014228002</td>\n",
       "      <td>{}</td>\n",
       "      <td>NaN</td>\n",
       "      <td>{\"android\":0,\"ios\":0}</td>\n",
       "    </tr>\n",
       "  </tbody>\n",
       "</table>\n",
       "</div>"
      ],
      "text/plain": [
       "                      safegraph_place_id             date_range_end  \\\n",
       "23   sg:01e5cf1972a9453ab650d070d4edb3ae  2021-01-04T00:00:00-06:00   \n",
       "82   sg:06be9d3b7b484bdf962683759313bd66  2021-01-04T00:00:00-06:00   \n",
       "113  sg:09368ac62c134897b98ba739cda14fee  2021-01-04T00:00:00-06:00   \n",
       "196  sg:118be774dd0847d98d91dfe48930d7d6  2021-01-04T00:00:00-06:00   \n",
       "324  sg:1e81f3e133184602a32cbffd26d8bbc5  2021-01-04T00:00:00-06:00   \n",
       "\n",
       "     raw_visit_counts  raw_visitor_counts       poi_cbg  \\\n",
       "23                  1                   1  482012205002   \n",
       "82                  2                   2  482014311022   \n",
       "113                12                   7  482015546002   \n",
       "196                54                  33  482014222003   \n",
       "324                 6                   4  482014228002   \n",
       "\n",
       "                                     visitor_home_cbgs  distance_from_home  \\\n",
       "23                                                  {}                 NaN   \n",
       "82                                                  {}                 NaN   \n",
       "113                                 {\"482015545022\":4}              2901.0   \n",
       "196  {\"482014236003\":4,\"482014222001\":4,\"4815767110...             13497.0   \n",
       "324                                                 {}                 NaN   \n",
       "\n",
       "                 device_type  \n",
       "23     {\"android\":0,\"ios\":0}  \n",
       "82     {\"android\":0,\"ios\":0}  \n",
       "113    {\"android\":4,\"ios\":4}  \n",
       "196  {\"android\":15,\"ios\":18}  \n",
       "324    {\"android\":0,\"ios\":0}  "
      ]
     },
     "execution_count": 31,
     "metadata": {},
     "output_type": "execute_result"
    }
   ],
   "source": [
    "# Checking weekly patterns dataframes\n",
    "print(len(filtered_patterns_df_list))\n",
    "filtered_patterns_df_list[0].head()"
   ]
  },
  {
   "cell_type": "markdown",
   "id": "172e1da1-6abf-47f2-9fa2-20eb87024f65",
   "metadata": {
    "jp-MarkdownHeadingCollapsed": true
   },
   "source": [
    "### 3. Merge POI and weekly patterns dataframes\n",
    "Merge POI and weekly patterns to get .csv files for each week. Also expand JSON columns here."
   ]
  },
  {
   "cell_type": "markdown",
   "id": "48ff7d6d-6ee2-482a-a015-87f80eab965c",
   "metadata": {},
   "source": [
    "Merge the core poi dataframe and patterns dataframe. A list of merged dataframes (one list entry for each week) is created. This also collect the date range end for each week and stores it in end_dates.\n",
    "\n",
    "Uses filtered_patterns_df_list from previous cell (might want to rethink that)."
   ]
  },
  {
   "cell_type": "code",
   "execution_count": 10,
   "id": "568db8ec-5731-42fc-adfb-b569b60fbcb2",
   "metadata": {},
   "outputs": [
    {
     "name": "stdout",
     "output_type": "stream",
     "text": [
      "2021-01-04\n",
      "2021-01-11\n",
      "2021-01-18\n",
      "2021-01-25\n",
      "                    safegraph_place_id        location_name  naics_code  \\\n",
      "0  sg:18fc341634df48118ba5daeb3fb276fc  Honey Bee Beautiful    812112.0   \n",
      "1  sg:192d7845bc8945dfa63a25bbf35574e2            Menchie's    722515.0   \n",
      "2  sg:20421578b6c041ed8569e517fe8e449c     Memorial Hermann    621111.0   \n",
      "3  sg:2869bfbf54594ead8d3afe118537333d   Sarpino's Pizzeria    722511.0   \n",
      "4  sg:2eaa6167052d41c29c321153df8bb802        Discount Tire    441310.0   \n",
      "\n",
      "    latitude  longitude             date_range_end  raw_visit_counts  \\\n",
      "0  30.073127 -95.526225  2021-01-04T00:00:00-06:00                 1   \n",
      "1  30.012920 -95.262418  2021-01-04T00:00:00-06:00               125   \n",
      "2  29.776253 -95.746255  2021-01-04T00:00:00-06:00                66   \n",
      "3  29.923806 -95.556749  2021-01-04T00:00:00-06:00                24   \n",
      "4  29.799468 -95.515912  2021-01-04T00:00:00-06:00                21   \n",
      "\n",
      "   raw_visitor_counts       poi_cbg  \\\n",
      "0                   1  482015549031   \n",
      "1                 114  482012507012   \n",
      "2                  51  482014546001   \n",
      "3                  24  482015517032   \n",
      "4                  16  482015210001   \n",
      "\n",
      "                                   visitor_home_cbgs  distance_from_home  \\\n",
      "0                                                 {}                 NaN   \n",
      "1  {\"482012514011\":6,\"482917011001\":6,\"4820122310...             11070.0   \n",
      "2  {\"481576731011\":6,\"480396605002\":4,\"4808975030...             11774.0   \n",
      "3  {\"482015517033\":4,\"482015517032\":4,\"4803966040...             13237.0   \n",
      "4  {\"480410013031\":4,\"482014302001\":4,\"4820152100...              2819.0   \n",
      "\n",
      "               device_type  \n",
      "0    {\"android\":0,\"ios\":0}  \n",
      "1  {\"android\":55,\"ios\":59}  \n",
      "2  {\"android\":21,\"ios\":24}  \n",
      "3  {\"android\":12,\"ios\":10}  \n",
      "4    {\"android\":5,\"ios\":9}  \n"
     ]
    }
   ],
   "source": [
    "poi_df = pd.read_csv('poi_TX_2020_new.csv')\n",
    "merged_df_list = []\n",
    "end_dates = []\n",
    "for patterns_df in filtered_patterns_df_list:\n",
    "    date = patterns_df['date_range_end'].iloc[0][:10]\n",
    "    print(date)\n",
    "    end_dates.append(date)\n",
    "    df = sgpy.merge_core_pattern(poi_df, patterns_df)\n",
    "    # df = df[['location_name', 'safegraph_place_id', 'naics_code', 'poi_cbg', 'longitude', 'latitude']]\n",
    "    merged_df_list.append(df)\n",
    "print(merged_df_list[0].head())"
   ]
  },
  {
   "cell_type": "markdown",
   "id": "6e95f816-5cce-43f3-913e-3ef361784586",
   "metadata": {},
   "source": [
    "Run to save weekly visits without expanding JSON"
   ]
  },
  {
   "cell_type": "code",
   "execution_count": 11,
   "id": "465b1bc6-8dde-47c2-9778-7c8854273605",
   "metadata": {},
   "outputs": [],
   "source": [
    "for i, df in enumerate(merged_df_list):\n",
    "    date = end_dates[i]\n",
    "    filename = f'unexpanded_{date}.csv'\n",
    "    df.to_csv(filename, index=False)"
   ]
  },
  {
   "cell_type": "markdown",
   "id": "f0797c1b-6689-47f4-bd39-3876ea0cfb2d",
   "metadata": {
    "jp-MarkdownHeadingCollapsed": true
   },
   "source": [
    "### 4. Unpacking JSON data\n",
    "This unpacks the visitor cbg column to provide counts for each visitor cbg. It is time intensive (possible filtering before)."
   ]
  },
  {
   "cell_type": "code",
   "execution_count": 9,
   "id": "98519d52-8748-46b9-8d38-69ce990acc53",
   "metadata": {},
   "outputs": [
    {
     "name": "stdout",
     "output_type": "stream",
     "text": [
      "2021-01-04\n",
      "2021-01-11\n",
      "2021-01-18\n",
      "2021-01-25\n"
     ]
    }
   ],
   "source": [
    "# Unpack JSON data\n",
    "# Time intensive\n",
    "unpacked_df_list = []\n",
    "for i, merged_df in enumerate(merged_df_list):\n",
    "    date = end_dates[i]\n",
    "    print(date)\n",
    "    df = sgpy.unpack_json_and_merge_fast(merged_df)\n",
    "    # df = df[['naics_code', 'poi_cbg', 'visitor_home_cbgs_key', 'visitor_home_cbgs_value', 'longitude', 'latitude']]\n",
    "    # df = df.rename(columns={'visitor_home_cbgs_key': 'visitor_cbg', 'visitor_home_cbgs_value': 'count'})\n",
    "    df.to_csv(f'weekly_patterns_{date}.csv', index=False)\n",
    "    \n"
   ]
  }
 ],
 "metadata": {
  "kernelspec": {
   "display_name": "Python 3 (ipykernel)",
   "language": "python",
   "name": "python3"
  },
  "language_info": {
   "codemirror_mode": {
    "name": "ipython",
    "version": 3
   },
   "file_extension": ".py",
   "mimetype": "text/x-python",
   "name": "python",
   "nbconvert_exporter": "python",
   "pygments_lexer": "ipython3",
   "version": "3.10.13"
  }
 },
 "nbformat": 4,
 "nbformat_minor": 5
}
